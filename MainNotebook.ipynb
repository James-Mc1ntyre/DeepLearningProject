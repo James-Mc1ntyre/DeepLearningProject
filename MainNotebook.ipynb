{
 "cells": [
  {
   "cell_type": "markdown",
   "metadata": {},
   "source": [
    "# Deep Learning project\n",
    "# By: James McIntyre\n",
    "# Classifying a motor imagery dataset with ML and DL"
   ]
  },
  {
   "cell_type": "code",
   "execution_count": 78,
   "metadata": {},
   "outputs": [
    {
     "name": "stdout",
     "output_type": "stream",
     "text": [
      "[PhysicalDevice(name='/physical_device:GPU:0', device_type='GPU')]\n"
     ]
    }
   ],
   "source": [
    "# Imports\n",
    "import os\n",
    "import numpy as np\n",
    "import pandas as pd\n",
    "import matplotlib.pyplot as plt\n",
    "import matlab.engine\n",
    "import mne\n",
    "mne.cuda.init_cuda(verbose=True)\n",
    "from mne.time_frequency import tfr_multitaper\n",
    "from tqdm import tqdm\n",
    "from sklearn.model_selection import train_test_split, GridSearchCV\n",
    "from sklearn.preprocessing import RobustScaler, LabelBinarizer\n",
    "from sklearn.pipeline import Pipeline, make_pipeline\n",
    "from sklearn.metrics import classification_report, confusion_matrix, cohen_kappa_score\n",
    "from sklearn.svm import SVC\n",
    "import tensorflow as tf\n",
    "import tensorflow_probability as tfp\n",
    "from keras.callbacks import ModelCheckpoint, EarlyStopping\n",
    "from keras import layers, losses\n",
    "import seaborn as sns\n",
    "physical_devices = tf.config.experimental.list_physical_devices('GPU')\n",
    "print(physical_devices)\n",
    "filepath = os.getcwd()\n",
    "\n"
   ]
  },
  {
   "cell_type": "markdown",
   "metadata": {},
   "source": [
    "## Preprocessing"
   ]
  },
  {
   "cell_type": "markdown",
   "metadata": {},
   "source": [
    "### Load dataset\n",
    "Load data using a matlab engine, this is the most reliable way to import .mat files to a python environment. <br>\n",
    "Filtering, epoching and other pre-processing steps are done in MNE."
   ]
  },
  {
   "cell_type": "markdown",
   "metadata": {},
   "source": [
    "#### Dataset description\n",
    "The dataset is taken from this competition (https://www.frontiersin.org/articles/10.3389/fnins.2012.00055/full) and a description of this particular dataset can be found here (https://lampx.tugraz.at/~bci/database/001-2014/description.pdf) <br>\n",
    "There are 9 participants are included with 22 EEG channels and 3 EoG channels. They are instructed to complete a 4-class motor imagery task (Left hand, Right hand, Feet, and Tongue) with 4 second trials. Signals are recorded at 250 Hz and bandpass filtered between 0.5 Hz and 100 Hz with a line noise notch filter at 50 Hz. Each participant completes 6 runs of 12 trials each class in 2 separate sessions."
   ]
  },
  {
   "cell_type": "code",
   "execution_count": 79,
   "metadata": {},
   "outputs": [],
   "source": [
    "# Start matlab engine\n",
    "eng = matlab.engine.start_matlab()"
   ]
  },
  {
   "cell_type": "code",
   "execution_count": 83,
   "metadata": {},
   "outputs": [
    {
     "name": "stderr",
     "output_type": "stream",
     "text": [
      "100%|██████████| 18/18 [00:32<00:00,  1.81s/it]\n"
     ]
    }
   ],
   "source": [
    "# Loop through dataset\n",
    "all_raw = []\n",
    "ch_names = ['Fz', 'FC3', 'FC1', 'FCz', 'FC2', 'FC4', 'C5', 'C3', 'C1', 'Cz', 'C2', 'C4',\n",
    "            'C6', 'CP3', 'CP1', 'CPz', 'CP2', 'CP4', 'P1', 'Pz', 'P2', 'Oz', 'EoG1', 'EoG2', 'EoG3']\n",
    "with os.scandir(os.getcwd()+'\\\\Dataset') as entries:\n",
    "    for entry in tqdm(entries, total=len(os.listdir(os.getcwd()+'\\\\Dataset'))):\n",
    "        this_participant = eng.load(entry.path)\n",
    "        for trial in this_participant['data']:\n",
    "            # Create MNE raw object for each recording\n",
    "            # check that this trial is not an 'EoG' trial (trigs empty)\n",
    "            if len(np.asarray(trial['trial'])) != 0:\n",
    "                # Extract .mat variables as np array variables\n",
    "                EEG_data = np.asarray(trial['X']).T\n",
    "                TrigSample = np.asarray(trial['trial']).squeeze()\n",
    "                TrigLabels = np.asarray(trial['y'])\n",
    "                TrigNames = np.asarray(trial['classes'])\n",
    "                srate = trial['fs']\n",
    "                # Format into an MNE raw object\n",
    "                EEG_info = mne.create_info(ch_names=ch_names, ch_types=['eeg']*22+['eog']*3, sfreq=srate)\n",
    "                EEG_raw = mne.io.RawArray(EEG_data, EEG_info, verbose=False)\n",
    "                # add anotations to raw\n",
    "                TrigDescription = [TrigNames[int(x-1)] for x in TrigLabels]\n",
    "                annotations = mne.Annotations(onset=TrigSample/srate, duration=0, description=TrigDescription)\n",
    "                EEG_raw.set_annotations(annotations)\n",
    "                all_raw.append(EEG_raw)\n"
   ]
  },
  {
   "cell_type": "markdown",
   "metadata": {},
   "source": [
    "### Filter and Epoch data"
   ]
  },
  {
   "cell_type": "markdown",
   "metadata": {},
   "source": [
    "Using MNE functions <br>We preprocess the data in the same way for both the Machine Learning classification and the Deep Learning classification. <br>The preprocessing steps from (Matolli et el.) are loosely followed to replicate similar results from the Convolutional Neural Network."
   ]
  },
  {
   "cell_type": "code",
   "execution_count": 82,
   "metadata": {},
   "outputs": [
    {
     "name": "stderr",
     "output_type": "stream",
     "text": [
      "100%|██████████| 108/108 [00:52<00:00,  2.07it/s]\n"
     ]
    },
    {
     "data": {
      "text/html": [
       "<table class=\"table table-hover table-striped table-sm table-responsive small\">\n",
       "    <tr>\n",
       "        <th>Number of events</th>\n",
       "        <td>5184</td>\n",
       "    </tr>\n",
       "    <tr>\n",
       "        <th>Events</th>\n",
       "        \n",
       "        <td>feet: 1296<br/>left hand: 1296<br/>right hand: 1296<br/>tongue: 1296</td>\n",
       "        \n",
       "    </tr>\n",
       "    <tr>\n",
       "        <th>Time range</th>\n",
       "        <td>-1.000 – 5.000 sec</td>\n",
       "    </tr>\n",
       "    <tr>\n",
       "        <th>Baseline</th>\n",
       "        <td>-1.000 – 0.000 sec</td>\n",
       "    </tr>\n",
       "</table>"
      ],
      "text/plain": [
       "<Epochs |  5184 events (all good), -1 - 5 sec, baseline -1 – 0 sec, ~836.2 MB, data loaded,\n",
       " 'feet': 1296\n",
       " 'left hand': 1296\n",
       " 'right hand': 1296\n",
       " 'tongue': 1296>"
      ]
     },
     "execution_count": 82,
     "metadata": {},
     "output_type": "execute_result"
    }
   ],
   "source": [
    "all_epochs = []\n",
    "for raw in tqdm(all_raw, total=len(all_raw)):\n",
    "    # Drop EoG (for now, maybe use for artifact removal later)\n",
    "    raw = raw.copy().pick_types(eeg=True, eog=False)\n",
    "    # Bandpass filter here\n",
    "    raw.filter(2, 70, verbose=False)\n",
    "    # CAR filter\n",
    "    raw.set_eeg_reference(verbose=False)\n",
    "    # # Laplacian filter\n",
    "    # raw = mne.preprocessing.compute_current_source_density(raw)\n",
    "    # Resample data\n",
    "    raw.resample(160)\n",
    "    # Epoch data\n",
    "    events, event_id = mne.events_from_annotations(raw, verbose=False)\n",
    "    these_epochs = mne.Epochs(raw, events=events, event_id=event_id,\n",
    "                              tmin=-1, tmax=5, baseline=(-1, 0), preload=True, verbose=False)\n",
    "    all_epochs.append(these_epochs.set_annotations(None))\n",
    "# Concatenate epochs\n",
    "# Don't separate by participant, just take all epochs as one\n",
    "Epochs = mne.concatenate_epochs(all_epochs, verbose=False)\n",
    "# Inspect Epochs\n",
    "Epochs\n"
   ]
  },
  {
   "cell_type": "code",
   "execution_count": null,
   "metadata": {},
   "outputs": [
    {
     "name": "stdout",
     "output_type": "stream",
     "text": [
      "<Info | 8 non-empty values\n",
      " bads: []\n",
      " ch_names: Fz, FC3, FC1, FCz, FC2, FC4, C5, C3, C1, Cz, C2, C4, C6, CP3, ...\n",
      " chs: 22 EEG\n",
      " custom_ref_applied: True\n",
      " highpass: 2.0 Hz\n",
      " lowpass: 70.0 Hz\n",
      " meas_date: unspecified\n",
      " nchan: 22\n",
      " projs: []\n",
      " sfreq: 160.0 Hz\n",
      ">\n"
     ]
    }
   ],
   "source": [
    "print(Epochs.info)"
   ]
  },
  {
   "cell_type": "markdown",
   "metadata": {},
   "source": [
    "## Machine Learning"
   ]
  },
  {
   "cell_type": "markdown",
   "metadata": {},
   "source": [
    "### Feature extraction"
   ]
  },
  {
   "cell_type": "markdown",
   "metadata": {},
   "source": [
    "We mainly look at spectral features, as they are the most discriminating when it comes to Motor Imagery classification, we get a time-frequency representation and take the sum of the power from the frequency bins as well as the relative power (sum of frequency bin power / sum of all power)<br>Features include spectral power from the frequency bands Alpha: 8-13 Hz, Low Beta: 13-20 Hz, High Beta: 20-30 Hz, Low Gamma: 30-40 Hz"
   ]
  },
  {
   "cell_type": "code",
   "execution_count": null,
   "metadata": {},
   "outputs": [
    {
     "name": "stdout",
     "output_type": "stream",
     "text": [
      "Extracting features from feet MI epochs\n"
     ]
    },
    {
     "name": "stderr",
     "output_type": "stream",
     "text": [
      "100%|██████████| 1296/1296 [09:03<00:00,  2.38it/s]\n"
     ]
    },
    {
     "name": "stdout",
     "output_type": "stream",
     "text": [
      "Extracting features from left hand MI epochs\n"
     ]
    },
    {
     "name": "stderr",
     "output_type": "stream",
     "text": [
      "100%|██████████| 1296/1296 [10:49<00:00,  1.99it/s]\n"
     ]
    },
    {
     "name": "stdout",
     "output_type": "stream",
     "text": [
      "Extracting features from right hand MI epochs\n"
     ]
    },
    {
     "name": "stderr",
     "output_type": "stream",
     "text": [
      "100%|██████████| 1296/1296 [10:33<00:00,  2.05it/s]\n"
     ]
    },
    {
     "name": "stdout",
     "output_type": "stream",
     "text": [
      "Extracting features from tongue MI epochs\n"
     ]
    },
    {
     "name": "stderr",
     "output_type": "stream",
     "text": [
      "100%|██████████| 1296/1296 [10:32<00:00,  2.05it/s]\n"
     ]
    }
   ],
   "source": [
    "# Initialize freqs for time frequency maps and bins for features\n",
    "freqs = np.arange(2, 45)  # frequencies from 2-45Hz\n",
    "freq_bins = {'alpha': [8, 13], 'low beta': [13, 20],\n",
    "             'high beta': [20, 30], 'low gamma': [30, 40]}\n",
    "# Creating labels for feature columns\n",
    "feat_names = []\n",
    "for ch in Epochs.ch_names:\n",
    "    feats_ch = [ch + ' ' + s for s in list(freq_bins.keys())]\n",
    "    [feat_names.append(x) for x in feats_ch]\n",
    "# Initialize the feature dataframe\n",
    "feats_df = pd.DataFrame(columns=feat_names+['label'])\n",
    "# Initialize the single obvervation feature dataframe\n",
    "this_sample_feats = pd.Series(index=feat_names+['label'], dtype='object')\n",
    "# Loop through each MI class\n",
    "for MIclass in Epochs.event_id:\n",
    "    print(\"Extracting features from \" + MIclass + \" MI epochs\")\n",
    "    # Use tdqm for progress bar\n",
    "    for epoch in tqdm(Epochs[MIclass].iter_evoked(), total=len(Epochs[MIclass])):\n",
    "        # Get time-frequency representation\n",
    "        epoch_tfr = tfr_multitaper(\n",
    "            epoch, freqs, n_cycles=freqs/2, return_itc=False, verbose=False)\n",
    "        epoch_tfr.apply_baseline(\n",
    "            (-1, 0), mode=\"percent\", verbose=False).crop(0, 4)\n",
    "        epoch_tfr_df = epoch_tfr.to_data_frame()\n",
    "        # Add label to this observation feature series\n",
    "        this_sample_feats['label'] = Epochs.event_id[MIclass]\n",
    "        # Loop through each frequency band\n",
    "        for f_bin, f_name in zip(freq_bins.values(), list(freq_bins.keys())):\n",
    "            this_band_df = epoch_tfr_df[epoch_tfr_df['freq'].between(\n",
    "                f_bin[0], f_bin[1])]\n",
    "            # Loop through each channel\n",
    "            for ch in this_band_df.columns[2:]:\n",
    "                this_band_ch = this_band_df[ch]\n",
    "                all_bands_ch = epoch_tfr_df[ch]\n",
    "                this_feat_name = ch + ' ' + f_name\n",
    "                this_feat_value = this_band_ch.sum()\n",
    "                # Add features to this observation series\n",
    "                this_sample_feats[this_feat_name] = this_feat_value\n",
    "        # Append this observation to the full feature matrix\n",
    "        feats_df = feats_df.append(this_sample_feats, ignore_index=True)\n"
   ]
  },
  {
   "cell_type": "markdown",
   "metadata": {},
   "source": [
    "### Training"
   ]
  },
  {
   "cell_type": "code",
   "execution_count": null,
   "metadata": {},
   "outputs": [
    {
     "name": "stdout",
     "output_type": "stream",
     "text": [
      "(4147, 88) (4147,) (518, 88) (518,) (519, 88) (519,)\n"
     ]
    }
   ],
   "source": [
    "# Split to train, test, and validation data (80,10,10)\n",
    "X_train, X_test_val, y_train, y_test_val = train_test_split(feats_df.copy().drop(\n",
    "    columns=['label']), feats_df['label'], stratify=feats_df['label'], test_size=0.20, random_state=42)\n",
    "X_test, X_val, y_test, y_val = train_test_split(\n",
    "    X_test_val, y_test_val, stratify=y_test_val, test_size=0.50, random_state=42)\n",
    "print(X_train.shape, y_train.shape, X_test.shape,\n",
    "      y_test.shape, X_val.shape, y_val.shape)\n"
   ]
  },
  {
   "cell_type": "markdown",
   "metadata": {},
   "source": [
    "Using a Support Vector Machine and the gridsearch function from sci-kit learn, we get the best values for the SVM hyperparameters (C and kernal type)"
   ]
  },
  {
   "cell_type": "markdown",
   "metadata": {},
   "source": [
    "Linear kernel takes a long time to train, I think convergence takes too long because the data is not linearly separable\n",
    "<br>Test some non-linear kernals instead"
   ]
  },
  {
   "cell_type": "code",
   "execution_count": null,
   "metadata": {},
   "outputs": [
    {
     "name": "stdout",
     "output_type": "stream",
     "text": [
      "Fitting 5 folds for each of 27 candidates, totalling 135 fits\n"
     ]
    },
    {
     "data": {
      "text/plain": [
       "Pipeline(steps=[('robustscaler', RobustScaler()),\n",
       "                ('gridsearchcv',\n",
       "                 GridSearchCV(estimator=SVC(),\n",
       "                              param_grid={'C': array([1, 2, 3, 4, 5, 6, 7, 8, 9]),\n",
       "                                          'kernel': ('poly', 'rbf', 'sigmoid')},\n",
       "                              scoring='accuracy', verbose=1))])"
      ]
     },
     "execution_count": 48,
     "metadata": {},
     "output_type": "execute_result"
    }
   ],
   "source": [
    "search = make_pipeline(RobustScaler(), GridSearchCV(SVC(), param_grid={\n",
    "                       'kernel': ('poly', 'rbf', 'sigmoid'), 'C': np.arange(1, 10)}, scoring='accuracy', verbose=1))\n",
    "search.fit(X_train, y_train.astype(int))\n"
   ]
  },
  {
   "cell_type": "code",
   "execution_count": null,
   "metadata": {},
   "outputs": [
    {
     "data": {
      "text/plain": [
       "{'C': 1, 'kernel': 'rbf'}"
      ]
     },
     "execution_count": 49,
     "metadata": {},
     "output_type": "execute_result"
    }
   ],
   "source": [
    "search[1].best_params_"
   ]
  },
  {
   "cell_type": "markdown",
   "metadata": {},
   "source": [
    "### Classification"
   ]
  },
  {
   "cell_type": "code",
   "execution_count": null,
   "metadata": {},
   "outputs": [
    {
     "name": "stdout",
     "output_type": "stream",
     "text": [
      "\n",
      " Classification report \n",
      "\n",
      "               precision    recall  f1-score   support\n",
      "\n",
      "        feet       0.26      0.21      0.24       259\n",
      "   left hand       0.29      0.33      0.31       259\n",
      "  right hand       0.35      0.36      0.36       260\n",
      "      tongue       0.31      0.33      0.32       259\n",
      "\n",
      "    accuracy                           0.31      1037\n",
      "   macro avg       0.31      0.31      0.31      1037\n",
      "weighted avg       0.31      0.31      0.31      1037\n",
      "\n",
      "\n",
      " Confusion matrix \n",
      "\n",
      " [[55 65 55 84]\n",
      " [54 86 63 56]\n",
      " [47 73 94 46]\n",
      " [52 69 53 85]]\n"
     ]
    },
    {
     "data": {
      "text/plain": [
       "<matplotlib.axes._subplots.AxesSubplot at 0x115a8becfa0>"
      ]
     },
     "execution_count": 50,
     "metadata": {},
     "output_type": "execute_result"
    },
    {
     "data": {
      "image/png": "[encoded data removed]",
      "text/plain": [
       "<Figure size 432x288 with 2 Axes>"
      ]
     },
     "metadata": {
      "needs_background": "light"
     },
     "output_type": "display_data"
    }
   ],
   "source": [
    "pipe = Pipeline([('scaler', RobustScaler()), ('svc', SVC(C=1, kernel='rbf'))])\n",
    "pipe.fit(X_train, y_train.astype(int))\n",
    "y_pred = pipe.predict(X_test_val)\n",
    "\n",
    "print('\\n Classification report \\n\\n',\n",
    "      classification_report(\n",
    "          y_test_val.astype(int),\n",
    "          y_pred,\n",
    "          target_names=Epochs.event_id\n",
    "      )\n",
    "      )\n",
    "\n",
    "print('\\n Confusion matrix \\n\\n',\n",
    "      confusion_matrix(\n",
    "          y_test_val.astype(int),\n",
    "          y_pred,\n",
    "      )\n",
    "      )\n",
    "\n",
    "sns.heatmap(confusion_matrix(\n",
    "    y_test_val.astype(int),\n",
    "    y_pred\n",
    "))\n"
   ]
  },
  {
   "cell_type": "markdown",
   "metadata": {},
   "source": [
    "## Deep Learning"
   ]
  },
  {
   "cell_type": "markdown",
   "metadata": {},
   "source": [
    "### Feature based MLP"
   ]
  },
  {
   "cell_type": "markdown",
   "metadata": {},
   "source": [
    "Change labels to one-hot encoding for NN"
   ]
  },
  {
   "cell_type": "code",
   "execution_count": null,
   "metadata": {},
   "outputs": [],
   "source": [
    "lb = LabelBinarizer().fit([1, 2, 3, 4])\n",
    "\n",
    "y_test_OH = lb.transform(y_test.astype(int))\n",
    "y_val_OH = lb.transform(y_val.astype(int))\n",
    "y_train_OH = lb.transform(y_train.astype(int))\n"
   ]
  },
  {
   "cell_type": "markdown",
   "metadata": {},
   "source": [
    "Using the same feature matrix from the SVM section"
   ]
  },
  {
   "cell_type": "code",
   "execution_count": null,
   "metadata": {},
   "outputs": [],
   "source": [
    "class BasicMLP(tf.keras.Model):\n",
    "    \"\"\"\n",
    "    BasicMLP\n",
    "    \"\"\"\n",
    "    def __init__(self, inp_shape = (88)):\n",
    "        super(BasicMLP, self).__init__()\n",
    "        self.inp_shape = inp_shape\n",
    "\n",
    "        self.drop_rate = 0.5\n",
    "\n",
    "        self.dense1 = tf.keras.layers.Dense(44, activation='relu')\n",
    "        self.dropout1 = tf.keras.layers.Dropout(self.drop_rate)\n",
    "        self.dense2 = tf.keras.layers.Dense(16, activation='relu')\n",
    "        self.dropout2 = tf.keras.layers.Dropout(self.drop_rate)\n",
    "        self.out = tf.keras.layers.Dense(4, activation='softmax')\n",
    "\n",
    "    def call(self, input_tensor):\n",
    "        dense1 = self.dense1(input_tensor)\n",
    "        dropout1 = self.dropout1(dense1)\n",
    "        dense2 = self.dense2(dropout1)\n",
    "        dropout2 = self.dropout2(dense2)\n",
    "        return self.out(dense2)"
   ]
  },
  {
   "cell_type": "code",
   "execution_count": null,
   "metadata": {},
   "outputs": [],
   "source": [
    "learning_rate = 1e-4\n",
    "\n",
    "loss = tf.keras.losses.categorical_crossentropy\n",
    "optimizer = tf.keras.optimizers.Adam(learning_rate=learning_rate)\n",
    "model_MLP = BasicMLP()\n",
    "\n",
    "model_MLP.compile(loss=loss, optimizer=optimizer, metrics=['accuracy'])\n",
    "\n",
    "# Where to save model\n",
    "modelPath = filepath + r'\\Models\\BasicMLP.h5'\n",
    "\n",
    "# build callback list\n",
    "checkpoint = ModelCheckpoint(  # set model saving checkpoints\n",
    "    modelPath,  # set path to save model weights\n",
    "    monitor='val_loss',  # set monitor metrics\n",
    "    verbose=1,  # set training verbosity\n",
    "    save_best_only=True,  # set if want to save only best weights\n",
    "    save_weights_only=True,  # set if you want to save only model weights\n",
    "    mode='auto',  # set if save min or max in metrics\n",
    "    save_freq='epoch'  # interval between checkpoints\n",
    ")\n",
    "\n",
    "earlystopping = EarlyStopping(\n",
    "    monitor='val_loss',  # set monitor metrics\n",
    "    min_delta=10,  # set minimum metrics delta\n",
    "    patience=2,  # number of epochs to stop training\n",
    "    restore_best_weights=True,  # set if use best weights or last weights\n",
    ")\n",
    "callbacksList = [checkpoint, earlystopping]  # build callbacks list\n"
   ]
  },
  {
   "cell_type": "code",
   "execution_count": null,
   "metadata": {},
   "outputs": [
    {
     "name": "stdout",
     "output_type": "stream",
     "text": [
      "Epoch 1/100\n",
      "411/415 [============================>.] - ETA: 0s - loss: 3543.5605 - accuracy: 0.2494\n",
      "Epoch 1: val_loss improved from inf to 1751.97546, saving model to c:\\Users\\james\\OneDrive\\GradSchool\\Spring 2022\\DeepLearningProject-redone\\Models\\BasicMLP.h5\n",
      "415/415 [==============================] - 5s 8ms/step - loss: 3541.9414 - accuracy: 0.2498 - val_loss: 1751.9755 - val_accuracy: 0.2582\n",
      "Epoch 2/100\n",
      "415/415 [==============================] - ETA: 0s - loss: 2242.3491 - accuracy: 0.2542\n",
      "Epoch 2: val_loss improved from 1751.97546 to 1152.69763, saving model to c:\\Users\\james\\OneDrive\\GradSchool\\Spring 2022\\DeepLearningProject-redone\\Models\\BasicMLP.h5\n",
      "415/415 [==============================] - 4s 9ms/step - loss: 2242.3491 - accuracy: 0.2542 - val_loss: 1152.6976 - val_accuracy: 0.2524\n",
      "Epoch 3/100\n",
      "412/415 [============================>.] - ETA: 0s - loss: 1607.0092 - accuracy: 0.2672\n",
      "Epoch 3: val_loss improved from 1152.69763 to 868.42633, saving model to c:\\Users\\james\\OneDrive\\GradSchool\\Spring 2022\\DeepLearningProject-redone\\Models\\BasicMLP.h5\n",
      "415/415 [==============================] - 4s 9ms/step - loss: 1605.2141 - accuracy: 0.2679 - val_loss: 868.4263 - val_accuracy: 0.2486\n",
      "Epoch 4/100\n",
      "409/415 [============================>.] - ETA: 0s - loss: 1313.1046 - accuracy: 0.2572\n",
      "Epoch 4: val_loss improved from 868.42633 to 687.78699, saving model to c:\\Users\\james\\OneDrive\\GradSchool\\Spring 2022\\DeepLearningProject-redone\\Models\\BasicMLP.h5\n",
      "415/415 [==============================] - 3s 7ms/step - loss: 1305.7540 - accuracy: 0.2580 - val_loss: 687.7870 - val_accuracy: 0.2524\n",
      "Epoch 5/100\n",
      "414/415 [============================>.] - ETA: 0s - loss: 1055.9607 - accuracy: 0.2553\n",
      "Epoch 5: val_loss improved from 687.78699 to 554.44434, saving model to c:\\Users\\james\\OneDrive\\GradSchool\\Spring 2022\\DeepLearningProject-redone\\Models\\BasicMLP.h5\n",
      "415/415 [==============================] - 3s 8ms/step - loss: 1056.3962 - accuracy: 0.2551 - val_loss: 554.4443 - val_accuracy: 0.2486\n",
      "Epoch 6/100\n",
      "413/415 [============================>.] - ETA: 0s - loss: 898.5941 - accuracy: 0.2567\n",
      "Epoch 6: val_loss improved from 554.44434 to 451.19791, saving model to c:\\Users\\james\\OneDrive\\GradSchool\\Spring 2022\\DeepLearningProject-redone\\Models\\BasicMLP.h5\n",
      "415/415 [==============================] - 3s 7ms/step - loss: 898.5625 - accuracy: 0.2563 - val_loss: 451.1979 - val_accuracy: 0.2620\n",
      "Epoch 7/100\n",
      "413/415 [============================>.] - ETA: 0s - loss: 747.0992 - accuracy: 0.2557\n",
      "Epoch 7: val_loss improved from 451.19791 to 372.62280, saving model to c:\\Users\\james\\OneDrive\\GradSchool\\Spring 2022\\DeepLearningProject-redone\\Models\\BasicMLP.h5\n",
      "415/415 [==============================] - 3s 7ms/step - loss: 746.3184 - accuracy: 0.2558 - val_loss: 372.6228 - val_accuracy: 0.2659\n",
      "Epoch 8/100\n",
      "410/415 [============================>.] - ETA: 0s - loss: 639.8359 - accuracy: 0.2602\n",
      "Epoch 8: val_loss improved from 372.62280 to 313.50076, saving model to c:\\Users\\james\\OneDrive\\GradSchool\\Spring 2022\\DeepLearningProject-redone\\Models\\BasicMLP.h5\n",
      "415/415 [==============================] - 3s 7ms/step - loss: 639.2651 - accuracy: 0.2604 - val_loss: 313.5008 - val_accuracy: 0.2582\n",
      "Epoch 9/100\n",
      "411/415 [============================>.] - ETA: 0s - loss: 543.9232 - accuracy: 0.2501\n",
      "Epoch 9: val_loss improved from 313.50076 to 261.12921, saving model to c:\\Users\\james\\OneDrive\\GradSchool\\Spring 2022\\DeepLearningProject-redone\\Models\\BasicMLP.h5\n",
      "415/415 [==============================] - 3s 7ms/step - loss: 542.3590 - accuracy: 0.2505 - val_loss: 261.1292 - val_accuracy: 0.2524\n",
      "Epoch 10/100\n",
      "413/415 [============================>.] - ETA: 0s - loss: 473.7604 - accuracy: 0.2608\n",
      "Epoch 10: val_loss improved from 261.12921 to 223.53322, saving model to c:\\Users\\james\\OneDrive\\GradSchool\\Spring 2022\\DeepLearningProject-redone\\Models\\BasicMLP.h5\n",
      "415/415 [==============================] - 3s 7ms/step - loss: 473.0698 - accuracy: 0.2604 - val_loss: 223.5332 - val_accuracy: 0.2408\n",
      "Epoch 11/100\n",
      "408/415 [============================>.] - ETA: 0s - loss: 415.4358 - accuracy: 0.2569\n",
      "Epoch 11: val_loss improved from 223.53322 to 187.86826, saving model to c:\\Users\\james\\OneDrive\\GradSchool\\Spring 2022\\DeepLearningProject-redone\\Models\\BasicMLP.h5\n",
      "415/415 [==============================] - 3s 7ms/step - loss: 415.3280 - accuracy: 0.2575 - val_loss: 187.8683 - val_accuracy: 0.2447\n",
      "Epoch 12/100\n",
      "414/415 [============================>.] - ETA: 0s - loss: 359.1460 - accuracy: 0.2580\n",
      "Epoch 12: val_loss improved from 187.86826 to 151.16891, saving model to c:\\Users\\james\\OneDrive\\GradSchool\\Spring 2022\\DeepLearningProject-redone\\Models\\BasicMLP.h5\n",
      "415/415 [==============================] - 3s 7ms/step - loss: 359.5334 - accuracy: 0.2575 - val_loss: 151.1689 - val_accuracy: 0.2543\n",
      "Epoch 13/100\n",
      "407/415 [============================>.] - ETA: 0s - loss: 292.0153 - accuracy: 0.2708\n",
      "Epoch 13: val_loss improved from 151.16891 to 120.22107, saving model to c:\\Users\\james\\OneDrive\\GradSchool\\Spring 2022\\DeepLearningProject-redone\\Models\\BasicMLP.h5\n",
      "415/415 [==============================] - 3s 7ms/step - loss: 293.2389 - accuracy: 0.2708 - val_loss: 120.2211 - val_accuracy: 0.2505\n",
      "Epoch 14/100\n",
      "415/415 [==============================] - ETA: 0s - loss: 250.5262 - accuracy: 0.2665\n",
      "Epoch 14: val_loss improved from 120.22107 to 93.18987, saving model to c:\\Users\\james\\OneDrive\\GradSchool\\Spring 2022\\DeepLearningProject-redone\\Models\\BasicMLP.h5\n",
      "415/415 [==============================] - 3s 7ms/step - loss: 250.5262 - accuracy: 0.2665 - val_loss: 93.1899 - val_accuracy: 0.2601\n",
      "Epoch 15/100\n",
      "414/415 [============================>.] - ETA: 0s - loss: 215.1213 - accuracy: 0.2476\n",
      "Epoch 15: val_loss improved from 93.18987 to 73.95847, saving model to c:\\Users\\james\\OneDrive\\GradSchool\\Spring 2022\\DeepLearningProject-redone\\Models\\BasicMLP.h5\n",
      "415/415 [==============================] - 3s 7ms/step - loss: 214.9092 - accuracy: 0.2476 - val_loss: 73.9585 - val_accuracy: 0.2408\n",
      "Epoch 16/100\n",
      "415/415 [==============================] - ETA: 0s - loss: 187.2032 - accuracy: 0.2580\n",
      "Epoch 16: val_loss improved from 73.95847 to 59.16080, saving model to c:\\Users\\james\\OneDrive\\GradSchool\\Spring 2022\\DeepLearningProject-redone\\Models\\BasicMLP.h5\n",
      "415/415 [==============================] - 3s 7ms/step - loss: 187.2032 - accuracy: 0.2580 - val_loss: 59.1608 - val_accuracy: 0.2524\n",
      "Epoch 17/100\n",
      "415/415 [==============================] - ETA: 0s - loss: 154.8627 - accuracy: 0.2537\n",
      "Epoch 17: val_loss improved from 59.16080 to 45.44049, saving model to c:\\Users\\james\\OneDrive\\GradSchool\\Spring 2022\\DeepLearningProject-redone\\Models\\BasicMLP.h5\n",
      "415/415 [==============================] - 3s 7ms/step - loss: 154.8627 - accuracy: 0.2537 - val_loss: 45.4405 - val_accuracy: 0.2505\n",
      "Epoch 18/100\n",
      "415/415 [==============================] - ETA: 0s - loss: 133.1274 - accuracy: 0.2510\n",
      "Epoch 18: val_loss improved from 45.44049 to 33.21796, saving model to c:\\Users\\james\\OneDrive\\GradSchool\\Spring 2022\\DeepLearningProject-redone\\Models\\BasicMLP.h5\n",
      "415/415 [==============================] - 3s 7ms/step - loss: 133.1274 - accuracy: 0.2510 - val_loss: 33.2180 - val_accuracy: 0.2563\n",
      "Epoch 19/100\n",
      "412/415 [============================>.] - ETA: 0s - loss: 108.7606 - accuracy: 0.2561\n",
      "Epoch 19: val_loss improved from 33.21796 to 24.46032, saving model to c:\\Users\\james\\OneDrive\\GradSchool\\Spring 2022\\DeepLearningProject-redone\\Models\\BasicMLP.h5\n",
      "415/415 [==============================] - 3s 7ms/step - loss: 108.9272 - accuracy: 0.2568 - val_loss: 24.4603 - val_accuracy: 0.2505\n",
      "Epoch 20/100\n",
      "409/415 [============================>.] - ETA: 0s - loss: 85.1680 - accuracy: 0.2592\n",
      "Epoch 20: val_loss improved from 24.46032 to 15.99254, saving model to c:\\Users\\james\\OneDrive\\GradSchool\\Spring 2022\\DeepLearningProject-redone\\Models\\BasicMLP.h5\n",
      "415/415 [==============================] - 3s 7ms/step - loss: 84.5804 - accuracy: 0.2592 - val_loss: 15.9925 - val_accuracy: 0.2582\n",
      "Epoch 21/100\n",
      "409/415 [============================>.] - ETA: 0s - loss: 74.6607 - accuracy: 0.2509\n",
      "Epoch 21: val_loss improved from 15.99254 to 11.19225, saving model to c:\\Users\\james\\OneDrive\\GradSchool\\Spring 2022\\DeepLearningProject-redone\\Models\\BasicMLP.h5\n",
      "415/415 [==============================] - 3s 7ms/step - loss: 74.4858 - accuracy: 0.2510 - val_loss: 11.1922 - val_accuracy: 0.2505\n",
      "Epoch 22/100\n",
      "409/415 [============================>.] - ETA: 0s - loss: 61.0089 - accuracy: 0.2477\n",
      "Epoch 22: val_loss improved from 11.19225 to 8.17990, saving model to c:\\Users\\james\\OneDrive\\GradSchool\\Spring 2022\\DeepLearningProject-redone\\Models\\BasicMLP.h5\n",
      "415/415 [==============================] - 3s 7ms/step - loss: 61.2860 - accuracy: 0.2476 - val_loss: 8.1799 - val_accuracy: 0.2678\n"
     ]
    }
   ],
   "source": [
    "hist = model_MLP.fit(X_train, y_train_OH, epochs=100, batch_size=10, validation_data=(X_val, y_val_OH),\n",
    "                     shuffle=True, callbacks=callbacksList, verbose=1)\n"
   ]
  },
  {
   "cell_type": "code",
   "execution_count": null,
   "metadata": {},
   "outputs": [
    {
     "data": {
      "text/plain": [
       "<matplotlib.legend.Legend at 0x11384eba100>"
      ]
     },
     "execution_count": 55,
     "metadata": {},
     "output_type": "execute_result"
    },
    {
     "data": {
      "image/png": "[encoded data removed]",
      "text/plain": [
       "<Figure size 432x288 with 2 Axes>"
      ]
     },
     "metadata": {
      "needs_background": "light"
     },
     "output_type": "display_data"
    }
   ],
   "source": [
    "fig,ax=plt.subplots()\n",
    "ax.plot(hist.history['accuracy'], color = 'b')\n",
    "ax.plot(hist.history['val_accuracy'], linestyle=':', color = 'b')\n",
    "ax.set_ylabel(\"Accuracy\", color = 'b')\n",
    "ax.set_ylim([0,1])\n",
    "ax2=ax.twinx()\n",
    "ax2.plot(hist.history['loss'],  color = 'r')\n",
    "ax2.plot(hist.history['val_loss'], linestyle=':',  color = 'r')\n",
    "ax2.set_ylabel(\"Loss (cross-entropy)\",  color = 'r')\n",
    "fig.legend(['accuracy','val_accuracy','loss','val_loss'])"
   ]
  },
  {
   "cell_type": "code",
   "execution_count": null,
   "metadata": {},
   "outputs": [
    {
     "name": "stdout",
     "output_type": "stream",
     "text": [
      "17/17 [==============================] - 0s 4ms/step\n",
      "\n",
      " Classification report \n",
      "\n",
      "               precision    recall  f1-score   support\n",
      "\n",
      "        feet       0.21      0.05      0.09       130\n",
      "   left hand       0.40      0.13      0.20       129\n",
      "  right hand       0.33      0.09      0.14       130\n",
      "      tongue       0.27      0.84      0.40       129\n",
      "\n",
      "    accuracy                           0.28       518\n",
      "   macro avg       0.30      0.28      0.21       518\n",
      "weighted avg       0.30      0.28      0.21       518\n",
      "\n",
      "\n",
      " Confusion matrix \n",
      "\n",
      " [[  7  11  11 101]\n",
      " [ 14  17   7  91]\n",
      " [  5   8  12 105]\n",
      " [  8   7   6 108]]\n",
      "Big overfitting problem here\n"
     ]
    },
    {
     "data": {
      "image/png": "[encoded data removed]",
      "text/plain": [
       "<Figure size 432x288 with 2 Axes>"
      ]
     },
     "metadata": {
      "needs_background": "light"
     },
     "output_type": "display_data"
    }
   ],
   "source": [
    "y_pred = model_MLP.predict(X_test)\n",
    "\n",
    "# convert from one hot encode in string\n",
    "yTestClass = np.argmax(y_test_OH, axis=1)\n",
    "yPredClass = np.argmax(y_pred,axis=1)\n",
    "\n",
    "print('\\n Classification report \\n\\n',\n",
    "  classification_report(\n",
    "      yTestClass,\n",
    "      yPredClass,\n",
    "       target_names=Epochs.event_id\n",
    "      )\n",
    "  )\n",
    "\n",
    "print('\\n Confusion matrix \\n\\n',\n",
    "  confusion_matrix(\n",
    "      yTestClass,\n",
    "      yPredClass,\n",
    "      )\n",
    "  )\n",
    "\n",
    "sns.heatmap(confusion_matrix(\n",
    "      yTestClass,\n",
    "      yPredClass\n",
    "      ))\n",
    "\n",
    "print('Big overfitting problem here')"
   ]
  },
  {
   "cell_type": "markdown",
   "metadata": {},
   "source": [
    "### Preprocess for raw channel pairs"
   ]
  },
  {
   "cell_type": "markdown",
   "metadata": {},
   "source": [
    "Just using a few pairs of electrodes ner the motor cortex for now."
   ]
  },
  {
   "cell_type": "code",
   "execution_count": null,
   "metadata": {},
   "outputs": [
    {
     "name": "stdout",
     "output_type": "stream",
     "text": [
      "(10368, 640, 2) (10368, 4)\n"
     ]
    }
   ],
   "source": [
    "# Initialize pairs for NN training\n",
    "pairs = [['C1', 'C2'],['C3', 'C4']]\n",
    "nn_data_list = []\n",
    "nn_labels = []\n",
    "# Loop through each MI class\n",
    "for MIclass in Epochs.event_id:\n",
    "    # loop through pairs\n",
    "    for pair in pairs:\n",
    "        nn_data_list.append(Epochs[MIclass].copy().crop(0,4).pick(pair).get_data()[:,:,:-1])\n",
    "        for x in range(len(Epochs[MIclass])):\n",
    "            nn_labels.append(Epochs.event_id[MIclass])\n",
    "# Change to one-hot encoding\n",
    "nn_labels_OH = lb.transform(nn_labels)\n",
    "nn_data = np.concatenate(nn_data_list, axis=0)\n",
    "nn_data = np.transpose(nn_data, axes=[0,2,1])\n",
    "print(nn_data.shape, nn_labels_OH.shape)\n"
   ]
  },
  {
   "cell_type": "markdown",
   "metadata": {},
   "source": [
    "Split to train, test and validation"
   ]
  },
  {
   "cell_type": "code",
   "execution_count": null,
   "metadata": {},
   "outputs": [
    {
     "name": "stdout",
     "output_type": "stream",
     "text": [
      "(8294, 640, 2) (8294, 4) (1037, 640, 2) (1037, 4) (1037, 640, 2) (1037, 4)\n"
     ]
    }
   ],
   "source": [
    "# Split to train, test, and validation data (80,10,10)\n",
    "X_train_nn, X_test_val_nn, y_train_nn, y_test_val_nn = train_test_split(nn_data, nn_labels_OH, stratify=nn_labels_OH, test_size=0.20, random_state=42)\n",
    "X_test_nn, X_val_nn, y_test_nn, y_val_nn = train_test_split(\n",
    "    X_test_val_nn, y_test_val_nn, stratify=y_test_val_nn, test_size=0.50, random_state=42)\n",
    "print(X_train_nn.shape, y_train_nn.shape, X_test_nn.shape,\n",
    "      y_test_nn.shape, X_val_nn.shape, y_val_nn.shape)"
   ]
  },
  {
   "cell_type": "markdown",
   "metadata": {},
   "source": [
    "### Convolutional Neural Network"
   ]
  },
  {
   "cell_type": "code",
   "execution_count": null,
   "metadata": {},
   "outputs": [],
   "source": [
    "class HopefullNet(tf.keras.Model):\n",
    "    \"\"\"\n",
    "    Original HopeFullNet\n",
    "    \"\"\"\n",
    "\n",
    "    def __init__(self, inp_shape=(640, 2)):\n",
    "        super(HopefullNet, self).__init__()\n",
    "        self.inp_shape = inp_shape\n",
    "\n",
    "        self.kernel_size_0 = 20\n",
    "        self.kernel_size_1 = 6\n",
    "        self.drop_rate = 0.5\n",
    "\n",
    "        self.conv1 = tf.keras.layers.Conv1D(filters=32,\n",
    "                                            kernel_size=self.kernel_size_0,\n",
    "                                            activation='relu',\n",
    "                                            padding=\"same\",\n",
    "                                            input_shape=self.inp_shape)\n",
    "        self.batch_n_1 = tf.keras.layers.BatchNormalization()\n",
    "        self.conv2 = tf.keras.layers.Conv1D(filters=32,\n",
    "                                            kernel_size=self.kernel_size_0,\n",
    "                                            activation='relu',\n",
    "                                            padding=\"valid\")\n",
    "        self.batch_n_2 = tf.keras.layers.BatchNormalization()\n",
    "        self.spatial_drop_1 = tf.keras.layers.SpatialDropout1D(self.drop_rate)\n",
    "        self.conv3 = tf.keras.layers.Conv1D(filters=32,\n",
    "                                            kernel_size=self.kernel_size_1,\n",
    "                                            activation='relu',\n",
    "                                            padding=\"valid\")\n",
    "        self.avg_pool1 = tf.keras.layers.AvgPool1D(pool_size=2)\n",
    "        self.conv4 = tf.keras.layers.Conv1D(filters=32,\n",
    "                                            kernel_size=self.kernel_size_1,\n",
    "                                            activation='relu',\n",
    "                                            padding=\"valid\")\n",
    "        self.spatial_drop_2 = tf.keras.layers.SpatialDropout1D(self.drop_rate)\n",
    "        self.flat = tf.keras.layers.Flatten()\n",
    "        self.dense1 = tf.keras.layers.Dense(296, activation='relu')\n",
    "        self.dropout1 = tf.keras.layers.Dropout(self.drop_rate)\n",
    "        self.dense2 = tf.keras.layers.Dense(148, activation='relu')\n",
    "        self.dropout2 = tf.keras.layers.Dropout(self.drop_rate)\n",
    "        self.dense3 = tf.keras.layers.Dense(74, activation='relu')\n",
    "        self.dropout3 = tf.keras.layers.Dropout(self.drop_rate)\n",
    "        self.out = tf.keras.layers.Dense(4, activation='softmax')\n",
    "\n",
    "    def call(self, input_tensor):\n",
    "        conv1 = self.conv1(input_tensor)\n",
    "        batch_n_1 = self.batch_n_1(conv1)\n",
    "        conv2 = self.conv2(batch_n_1)\n",
    "        batch_n_2 = self.batch_n_2(conv2)\n",
    "        spatial_drop_1 = self.spatial_drop_1(batch_n_2)\n",
    "        conv3 = self.conv3(spatial_drop_1)\n",
    "        avg_pool1 = self.avg_pool1(conv3)\n",
    "        conv4 = self.conv4(avg_pool1)\n",
    "        spatial_drop_2 = self.spatial_drop_2(conv4)\n",
    "        flat = self.flat(spatial_drop_2)\n",
    "        dense1 = self.dense1(flat)\n",
    "        dropout1 = self.dropout1(dense1)\n",
    "        dense2 = self.dense2(dropout1)\n",
    "        dropout2 = self.dropout2(dense2)\n",
    "        return self.out(dropout2)\n"
   ]
  },
  {
   "cell_type": "code",
   "execution_count": null,
   "metadata": {},
   "outputs": [],
   "source": [
    "learning_rate = 1e-4\n",
    "\n",
    "loss = tf.keras.losses.categorical_crossentropy\n",
    "optimizer = tf.keras.optimizers.Adam(learning_rate=learning_rate)\n",
    "model_CNN = HopefullNet()\n",
    "\n",
    "model_CNN.compile(loss=loss, optimizer=optimizer, metrics=['accuracy'])\n",
    "\n",
    "# Where to save model\n",
    "modelPath = filepath + r'\\Models\\CNN.h5'\n",
    "\n",
    "# build callback list\n",
    "checkpoint = ModelCheckpoint(  # set model saving checkpoints\n",
    "    modelPath,  # set path to save model weights\n",
    "    monitor='val_loss',  # set monitor metrics\n",
    "    verbose=1,  # set training verbosity\n",
    "    save_best_only=True,  # set if want to save only best weights\n",
    "    save_weights_only=True,  # set if you want to save only model weights\n",
    "    mode='auto',  # set if save min or max in metrics\n",
    "    save_freq='epoch'  # interval between checkpoints\n",
    ")\n",
    "\n",
    "earlystopping = EarlyStopping(\n",
    "    monitor='val_loss',  # set monitor metrics\n",
    "    min_delta=0.001,  # set minimum metrics delta\n",
    "    patience=4,  # number of epochs to stop training\n",
    "    restore_best_weights=True,  # set if use best weights or last weights\n",
    ")\n",
    "callbacksList = [checkpoint, earlystopping]  # build callbacks list\n"
   ]
  },
  {
   "cell_type": "code",
   "execution_count": 61,
   "metadata": {},
   "outputs": [
    {
     "name": "stdout",
     "output_type": "stream",
     "text": [
      "Epoch 1/100\n",
      "828/830 [============================>.] - ETA: 0s - loss: 1.5028 - accuracy: 0.2469\n",
      "Epoch 1: val_loss improved from inf to 1.38419, saving model to c:\\Users\\james\\OneDrive\\GradSchool\\Spring 2022\\DeepLearningProject-redone\\Models\\CNN.h5\n",
      "830/830 [==============================] - 16s 17ms/step - loss: 1.5026 - accuracy: 0.2469 - val_loss: 1.3842 - val_accuracy: 0.2710\n",
      "Epoch 2/100\n",
      "830/830 [==============================] - ETA: 0s - loss: 1.3965 - accuracy: 0.2614\n",
      "Epoch 2: val_loss improved from 1.38419 to 1.37122, saving model to c:\\Users\\james\\OneDrive\\GradSchool\\Spring 2022\\DeepLearningProject-redone\\Models\\CNN.h5\n",
      "830/830 [==============================] - 14s 17ms/step - loss: 1.3965 - accuracy: 0.2614 - val_loss: 1.3712 - val_accuracy: 0.2999\n",
      "Epoch 3/100\n",
      "830/830 [==============================] - ETA: 0s - loss: 1.3856 - accuracy: 0.2800\n",
      "Epoch 3: val_loss improved from 1.37122 to 1.36251, saving model to c:\\Users\\james\\OneDrive\\GradSchool\\Spring 2022\\DeepLearningProject-redone\\Models\\CNN.h5\n",
      "830/830 [==============================] - 14s 16ms/step - loss: 1.3856 - accuracy: 0.2800 - val_loss: 1.3625 - val_accuracy: 0.3124\n",
      "Epoch 4/100\n",
      "828/830 [============================>.] - ETA: 0s - loss: 1.3738 - accuracy: 0.2988\n",
      "Epoch 4: val_loss improved from 1.36251 to 1.34892, saving model to c:\\Users\\james\\OneDrive\\GradSchool\\Spring 2022\\DeepLearningProject-redone\\Models\\CNN.h5\n",
      "830/830 [==============================] - 14s 17ms/step - loss: 1.3738 - accuracy: 0.2990 - val_loss: 1.3489 - val_accuracy: 0.3288\n",
      "Epoch 5/100\n",
      "828/830 [============================>.] - ETA: 0s - loss: 1.3617 - accuracy: 0.3076\n",
      "Epoch 5: val_loss improved from 1.34892 to 1.34380, saving model to c:\\Users\\james\\OneDrive\\GradSchool\\Spring 2022\\DeepLearningProject-redone\\Models\\CNN.h5\n",
      "830/830 [==============================] - 14s 17ms/step - loss: 1.3615 - accuracy: 0.3079 - val_loss: 1.3438 - val_accuracy: 0.3500\n",
      "Epoch 6/100\n",
      "830/830 [==============================] - ETA: 0s - loss: 1.3541 - accuracy: 0.3270\n",
      "Epoch 6: val_loss improved from 1.34380 to 1.32202, saving model to c:\\Users\\james\\OneDrive\\GradSchool\\Spring 2022\\DeepLearningProject-redone\\Models\\CNN.h5\n",
      "830/830 [==============================] - 14s 17ms/step - loss: 1.3541 - accuracy: 0.3270 - val_loss: 1.3220 - val_accuracy: 0.3491\n",
      "Epoch 7/100\n",
      "830/830 [==============================] - ETA: 0s - loss: 1.3346 - accuracy: 0.3427\n",
      "Epoch 7: val_loss did not improve from 1.32202\n",
      "830/830 [==============================] - 15s 18ms/step - loss: 1.3346 - accuracy: 0.3427 - val_loss: 1.3243 - val_accuracy: 0.3491\n",
      "Epoch 8/100\n",
      "828/830 [============================>.] - ETA: 0s - loss: 1.3329 - accuracy: 0.3362\n",
      "Epoch 8: val_loss improved from 1.32202 to 1.31725, saving model to c:\\Users\\james\\OneDrive\\GradSchool\\Spring 2022\\DeepLearningProject-redone\\Models\\CNN.h5\n",
      "830/830 [==============================] - 14s 16ms/step - loss: 1.3328 - accuracy: 0.3361 - val_loss: 1.3173 - val_accuracy: 0.3558\n",
      "Epoch 9/100\n",
      "828/830 [============================>.] - ETA: 0s - loss: 1.3189 - accuracy: 0.3452\n",
      "Epoch 9: val_loss improved from 1.31725 to 1.30211, saving model to c:\\Users\\james\\OneDrive\\GradSchool\\Spring 2022\\DeepLearningProject-redone\\Models\\CNN.h5\n",
      "830/830 [==============================] - 14s 17ms/step - loss: 1.3189 - accuracy: 0.3451 - val_loss: 1.3021 - val_accuracy: 0.3529\n",
      "Epoch 10/100\n",
      "830/830 [==============================] - ETA: 0s - loss: 1.3161 - accuracy: 0.3462\n",
      "Epoch 10: val_loss did not improve from 1.30211\n",
      "830/830 [==============================] - 14s 17ms/step - loss: 1.3161 - accuracy: 0.3462 - val_loss: 1.3029 - val_accuracy: 0.3481\n",
      "Epoch 11/100\n",
      "829/830 [============================>.] - ETA: 0s - loss: 1.3135 - accuracy: 0.3507\n",
      "Epoch 11: val_loss improved from 1.30211 to 1.29647, saving model to c:\\Users\\james\\OneDrive\\GradSchool\\Spring 2022\\DeepLearningProject-redone\\Models\\CNN.h5\n",
      "830/830 [==============================] - 14s 17ms/step - loss: 1.3133 - accuracy: 0.3507 - val_loss: 1.2965 - val_accuracy: 0.3529\n",
      "Epoch 12/100\n",
      "828/830 [============================>.] - ETA: 0s - loss: 1.3081 - accuracy: 0.3557\n",
      "Epoch 12: val_loss did not improve from 1.29647\n",
      "830/830 [==============================] - 15s 18ms/step - loss: 1.3080 - accuracy: 0.3556 - val_loss: 1.3022 - val_accuracy: 0.3607\n",
      "Epoch 13/100\n",
      "828/830 [============================>.] - ETA: 0s - loss: 1.2953 - accuracy: 0.3687\n",
      "Epoch 13: val_loss did not improve from 1.29647\n",
      "830/830 [==============================] - 14s 17ms/step - loss: 1.2955 - accuracy: 0.3687 - val_loss: 1.2976 - val_accuracy: 0.3664\n",
      "Epoch 14/100\n",
      "828/830 [============================>.] - ETA: 0s - loss: 1.2918 - accuracy: 0.3702\n",
      "Epoch 14: val_loss improved from 1.29647 to 1.28193, saving model to c:\\Users\\james\\OneDrive\\GradSchool\\Spring 2022\\DeepLearningProject-redone\\Models\\CNN.h5\n",
      "830/830 [==============================] - 14s 17ms/step - loss: 1.2919 - accuracy: 0.3701 - val_loss: 1.2819 - val_accuracy: 0.3635\n",
      "Epoch 15/100\n",
      "828/830 [============================>.] - ETA: 0s - loss: 1.2907 - accuracy: 0.3737\n",
      "Epoch 15: val_loss improved from 1.28193 to 1.28074, saving model to c:\\Users\\james\\OneDrive\\GradSchool\\Spring 2022\\DeepLearningProject-redone\\Models\\CNN.h5\n",
      "830/830 [==============================] - 15s 18ms/step - loss: 1.2906 - accuracy: 0.3736 - val_loss: 1.2807 - val_accuracy: 0.3742\n",
      "Epoch 16/100\n",
      "828/830 [============================>.] - ETA: 0s - loss: 1.2809 - accuracy: 0.3876\n",
      "Epoch 16: val_loss improved from 1.28074 to 1.27619, saving model to c:\\Users\\james\\OneDrive\\GradSchool\\Spring 2022\\DeepLearningProject-redone\\Models\\CNN.h5\n",
      "830/830 [==============================] - 15s 18ms/step - loss: 1.2809 - accuracy: 0.3876 - val_loss: 1.2762 - val_accuracy: 0.3722\n",
      "Epoch 17/100\n",
      "828/830 [============================>.] - ETA: 0s - loss: 1.2732 - accuracy: 0.3884\n",
      "Epoch 17: val_loss improved from 1.27619 to 1.27323, saving model to c:\\Users\\james\\OneDrive\\GradSchool\\Spring 2022\\DeepLearningProject-redone\\Models\\CNN.h5\n",
      "830/830 [==============================] - 15s 18ms/step - loss: 1.2733 - accuracy: 0.3881 - val_loss: 1.2732 - val_accuracy: 0.3915\n",
      "Epoch 18/100\n",
      "828/830 [============================>.] - ETA: 0s - loss: 1.2609 - accuracy: 0.4072\n",
      "Epoch 18: val_loss improved from 1.27323 to 1.27319, saving model to c:\\Users\\james\\OneDrive\\GradSchool\\Spring 2022\\DeepLearningProject-redone\\Models\\CNN.h5\n",
      "830/830 [==============================] - 15s 18ms/step - loss: 1.2609 - accuracy: 0.4072 - val_loss: 1.2732 - val_accuracy: 0.3992\n",
      "Epoch 19/100\n",
      "829/830 [============================>.] - ETA: 0s - loss: 1.2532 - accuracy: 0.4117\n",
      "Epoch 19: val_loss improved from 1.27319 to 1.26505, saving model to c:\\Users\\james\\OneDrive\\GradSchool\\Spring 2022\\DeepLearningProject-redone\\Models\\CNN.h5\n",
      "830/830 [==============================] - 15s 18ms/step - loss: 1.2533 - accuracy: 0.4115 - val_loss: 1.2651 - val_accuracy: 0.3983\n",
      "Epoch 20/100\n",
      "828/830 [============================>.] - ETA: 0s - loss: 1.2418 - accuracy: 0.4225\n",
      "Epoch 20: val_loss improved from 1.26505 to 1.24820, saving model to c:\\Users\\james\\OneDrive\\GradSchool\\Spring 2022\\DeepLearningProject-redone\\Models\\CNN.h5\n",
      "830/830 [==============================] - 15s 18ms/step - loss: 1.2418 - accuracy: 0.4226 - val_loss: 1.2482 - val_accuracy: 0.4147\n",
      "Epoch 21/100\n",
      "828/830 [============================>.] - ETA: 0s - loss: 1.2271 - accuracy: 0.4245\n",
      "Epoch 21: val_loss improved from 1.24820 to 1.24117, saving model to c:\\Users\\james\\OneDrive\\GradSchool\\Spring 2022\\DeepLearningProject-redone\\Models\\CNN.h5\n",
      "830/830 [==============================] - 15s 18ms/step - loss: 1.2271 - accuracy: 0.4244 - val_loss: 1.2412 - val_accuracy: 0.4204\n",
      "Epoch 22/100\n",
      "827/830 [============================>.] - ETA: 0s - loss: 1.2118 - accuracy: 0.4366\n",
      "Epoch 22: val_loss did not improve from 1.24117\n",
      "830/830 [==============================] - 15s 18ms/step - loss: 1.2110 - accuracy: 0.4375 - val_loss: 1.2448 - val_accuracy: 0.4253\n",
      "Epoch 23/100\n",
      "828/830 [============================>.] - ETA: 0s - loss: 1.1901 - accuracy: 0.4559\n",
      "Epoch 23: val_loss improved from 1.24117 to 1.22411, saving model to c:\\Users\\james\\OneDrive\\GradSchool\\Spring 2022\\DeepLearningProject-redone\\Models\\CNN.h5\n",
      "830/830 [==============================] - 14s 17ms/step - loss: 1.1897 - accuracy: 0.4565 - val_loss: 1.2241 - val_accuracy: 0.4320\n",
      "Epoch 24/100\n",
      "828/830 [============================>.] - ETA: 0s - loss: 1.1719 - accuracy: 0.4744\n",
      "Epoch 24: val_loss did not improve from 1.22411\n",
      "830/830 [==============================] - 15s 18ms/step - loss: 1.1719 - accuracy: 0.4746 - val_loss: 1.2242 - val_accuracy: 0.4388\n",
      "Epoch 25/100\n",
      "829/830 [============================>.] - ETA: 0s - loss: 1.1486 - accuracy: 0.4878\n",
      "Epoch 25: val_loss improved from 1.22411 to 1.20962, saving model to c:\\Users\\james\\OneDrive\\GradSchool\\Spring 2022\\DeepLearningProject-redone\\Models\\CNN.h5\n",
      "830/830 [==============================] - 14s 17ms/step - loss: 1.1487 - accuracy: 0.4878 - val_loss: 1.2096 - val_accuracy: 0.4561\n",
      "Epoch 26/100\n",
      "830/830 [==============================] - ETA: 0s - loss: 1.1308 - accuracy: 0.5033\n",
      "Epoch 26: val_loss improved from 1.20962 to 1.20045, saving model to c:\\Users\\james\\OneDrive\\GradSchool\\Spring 2022\\DeepLearningProject-redone\\Models\\CNN.h5\n",
      "830/830 [==============================] - 18s 21ms/step - loss: 1.1308 - accuracy: 0.5033 - val_loss: 1.2004 - val_accuracy: 0.4677\n",
      "Epoch 27/100\n",
      "829/830 [============================>.] - ETA: 0s - loss: 1.0944 - accuracy: 0.5233\n",
      "Epoch 27: val_loss improved from 1.20045 to 1.18786, saving model to c:\\Users\\james\\OneDrive\\GradSchool\\Spring 2022\\DeepLearningProject-redone\\Models\\CNN.h5\n",
      "830/830 [==============================] - 18s 21ms/step - loss: 1.0944 - accuracy: 0.5233 - val_loss: 1.1879 - val_accuracy: 0.4677\n",
      "Epoch 28/100\n",
      "830/830 [==============================] - ETA: 0s - loss: 1.0811 - accuracy: 0.5275\n",
      "Epoch 28: val_loss improved from 1.18786 to 1.18108, saving model to c:\\Users\\james\\OneDrive\\GradSchool\\Spring 2022\\DeepLearningProject-redone\\Models\\CNN.h5\n",
      "830/830 [==============================] - 17s 20ms/step - loss: 1.0811 - accuracy: 0.5275 - val_loss: 1.1811 - val_accuracy: 0.4802\n",
      "Epoch 29/100\n",
      "829/830 [============================>.] - ETA: 0s - loss: 1.0608 - accuracy: 0.5439\n",
      "Epoch 29: val_loss improved from 1.18108 to 1.16983, saving model to c:\\Users\\james\\OneDrive\\GradSchool\\Spring 2022\\DeepLearningProject-redone\\Models\\CNN.h5\n",
      "830/830 [==============================] - 17s 20ms/step - loss: 1.0608 - accuracy: 0.5439 - val_loss: 1.1698 - val_accuracy: 0.4889\n",
      "Epoch 30/100\n",
      "830/830 [==============================] - ETA: 0s - loss: 1.0309 - accuracy: 0.5563\n",
      "Epoch 30: val_loss improved from 1.16983 to 1.15919, saving model to c:\\Users\\james\\OneDrive\\GradSchool\\Spring 2022\\DeepLearningProject-redone\\Models\\CNN.h5\n",
      "830/830 [==============================] - 17s 21ms/step - loss: 1.0309 - accuracy: 0.5563 - val_loss: 1.1592 - val_accuracy: 0.4822\n",
      "Epoch 31/100\n",
      "828/830 [============================>.] - ETA: 0s - loss: 1.0056 - accuracy: 0.5775\n",
      "Epoch 31: val_loss improved from 1.15919 to 1.15164, saving model to c:\\Users\\james\\OneDrive\\GradSchool\\Spring 2022\\DeepLearningProject-redone\\Models\\CNN.h5\n",
      "830/830 [==============================] - 18s 22ms/step - loss: 1.0051 - accuracy: 0.5780 - val_loss: 1.1516 - val_accuracy: 0.4995\n",
      "Epoch 32/100\n",
      "830/830 [==============================] - ETA: 0s - loss: 0.9615 - accuracy: 0.5943\n",
      "Epoch 32: val_loss improved from 1.15164 to 1.11312, saving model to c:\\Users\\james\\OneDrive\\GradSchool\\Spring 2022\\DeepLearningProject-redone\\Models\\CNN.h5\n",
      "830/830 [==============================] - 18s 22ms/step - loss: 0.9615 - accuracy: 0.5943 - val_loss: 1.1131 - val_accuracy: 0.5198\n",
      "Epoch 33/100\n",
      "828/830 [============================>.] - ETA: 0s - loss: 0.9324 - accuracy: 0.6133\n",
      "Epoch 33: val_loss improved from 1.11312 to 1.11117, saving model to c:\\Users\\james\\OneDrive\\GradSchool\\Spring 2022\\DeepLearningProject-redone\\Models\\CNN.h5\n",
      "830/830 [==============================] - 18s 21ms/step - loss: 0.9324 - accuracy: 0.6132 - val_loss: 1.1112 - val_accuracy: 0.5333\n",
      "Epoch 34/100\n",
      "829/830 [============================>.] - ETA: 0s - loss: 0.9137 - accuracy: 0.6205\n",
      "Epoch 34: val_loss improved from 1.11117 to 1.09248, saving model to c:\\Users\\james\\OneDrive\\GradSchool\\Spring 2022\\DeepLearningProject-redone\\Models\\CNN.h5\n",
      "830/830 [==============================] - 17s 21ms/step - loss: 0.9139 - accuracy: 0.6203 - val_loss: 1.0925 - val_accuracy: 0.5400\n",
      "Epoch 35/100\n",
      "828/830 [============================>.] - ETA: 0s - loss: 0.8805 - accuracy: 0.6391\n",
      "Epoch 35: val_loss improved from 1.09248 to 1.07128, saving model to c:\\Users\\james\\OneDrive\\GradSchool\\Spring 2022\\DeepLearningProject-redone\\Models\\CNN.h5\n",
      "830/830 [==============================] - 17s 20ms/step - loss: 0.8801 - accuracy: 0.6394 - val_loss: 1.0713 - val_accuracy: 0.5429\n",
      "Epoch 36/100\n",
      "829/830 [============================>.] - ETA: 0s - loss: 0.8402 - accuracy: 0.6555\n",
      "Epoch 36: val_loss improved from 1.07128 to 1.05782, saving model to c:\\Users\\james\\OneDrive\\GradSchool\\Spring 2022\\DeepLearningProject-redone\\Models\\CNN.h5\n",
      "830/830 [==============================] - 17s 21ms/step - loss: 0.8401 - accuracy: 0.6554 - val_loss: 1.0578 - val_accuracy: 0.5506\n",
      "Epoch 37/100\n",
      "828/830 [============================>.] - ETA: 0s - loss: 0.7960 - accuracy: 0.6831\n",
      "Epoch 37: val_loss improved from 1.05782 to 1.03798, saving model to c:\\Users\\james\\OneDrive\\GradSchool\\Spring 2022\\DeepLearningProject-redone\\Models\\CNN.h5\n",
      "830/830 [==============================] - 17s 21ms/step - loss: 0.7956 - accuracy: 0.6833 - val_loss: 1.0380 - val_accuracy: 0.5786\n",
      "Epoch 38/100\n",
      "828/830 [============================>.] - ETA: 0s - loss: 0.7587 - accuracy: 0.7037\n",
      "Epoch 38: val_loss improved from 1.03798 to 1.00882, saving model to c:\\Users\\james\\OneDrive\\GradSchool\\Spring 2022\\DeepLearningProject-redone\\Models\\CNN.h5\n",
      "830/830 [==============================] - 17s 20ms/step - loss: 0.7595 - accuracy: 0.7036 - val_loss: 1.0088 - val_accuracy: 0.5882\n",
      "Epoch 39/100\n",
      "829/830 [============================>.] - ETA: 0s - loss: 0.7324 - accuracy: 0.7172\n",
      "Epoch 39: val_loss improved from 1.00882 to 0.98733, saving model to c:\\Users\\james\\OneDrive\\GradSchool\\Spring 2022\\DeepLearningProject-redone\\Models\\CNN.h5\n",
      "830/830 [==============================] - 16s 20ms/step - loss: 0.7327 - accuracy: 0.7170 - val_loss: 0.9873 - val_accuracy: 0.5979\n",
      "Epoch 40/100\n",
      "828/830 [============================>.] - ETA: 0s - loss: 0.7139 - accuracy: 0.7188\n",
      "Epoch 40: val_loss improved from 0.98733 to 0.96997, saving model to c:\\Users\\james\\OneDrive\\GradSchool\\Spring 2022\\DeepLearningProject-redone\\Models\\CNN.h5\n",
      "830/830 [==============================] - 16s 20ms/step - loss: 0.7137 - accuracy: 0.7188 - val_loss: 0.9700 - val_accuracy: 0.6075\n",
      "Epoch 41/100\n",
      "828/830 [============================>.] - ETA: 0s - loss: 0.6645 - accuracy: 0.7458\n",
      "Epoch 41: val_loss improved from 0.96997 to 0.94808, saving model to c:\\Users\\james\\OneDrive\\GradSchool\\Spring 2022\\DeepLearningProject-redone\\Models\\CNN.h5\n",
      "830/830 [==============================] - 16s 20ms/step - loss: 0.6646 - accuracy: 0.7456 - val_loss: 0.9481 - val_accuracy: 0.6384\n",
      "Epoch 42/100\n",
      "828/830 [============================>.] - ETA: 0s - loss: 0.6355 - accuracy: 0.7595\n",
      "Epoch 42: val_loss improved from 0.94808 to 0.92991, saving model to c:\\Users\\james\\OneDrive\\GradSchool\\Spring 2022\\DeepLearningProject-redone\\Models\\CNN.h5\n",
      "830/830 [==============================] - 16s 19ms/step - loss: 0.6353 - accuracy: 0.7595 - val_loss: 0.9299 - val_accuracy: 0.6393\n",
      "Epoch 43/100\n",
      "830/830 [==============================] - ETA: 0s - loss: 0.6057 - accuracy: 0.7727\n",
      "Epoch 43: val_loss improved from 0.92991 to 0.90068, saving model to c:\\Users\\james\\OneDrive\\GradSchool\\Spring 2022\\DeepLearningProject-redone\\Models\\CNN.h5\n",
      "830/830 [==============================] - 16s 20ms/step - loss: 0.6057 - accuracy: 0.7727 - val_loss: 0.9007 - val_accuracy: 0.6393\n",
      "Epoch 44/100\n",
      "828/830 [============================>.] - ETA: 0s - loss: 0.5782 - accuracy: 0.7773\n",
      "Epoch 44: val_loss improved from 0.90068 to 0.88531, saving model to c:\\Users\\james\\OneDrive\\GradSchool\\Spring 2022\\DeepLearningProject-redone\\Models\\CNN.h5\n",
      "830/830 [==============================] - 16s 20ms/step - loss: 0.5785 - accuracy: 0.7771 - val_loss: 0.8853 - val_accuracy: 0.6606\n",
      "Epoch 45/100\n",
      "828/830 [============================>.] - ETA: 0s - loss: 0.5326 - accuracy: 0.8005\n",
      "Epoch 45: val_loss improved from 0.88531 to 0.85014, saving model to c:\\Users\\james\\OneDrive\\GradSchool\\Spring 2022\\DeepLearningProject-redone\\Models\\CNN.h5\n",
      "830/830 [==============================] - 17s 21ms/step - loss: 0.5330 - accuracy: 0.8003 - val_loss: 0.8501 - val_accuracy: 0.6808\n",
      "Epoch 46/100\n",
      "828/830 [============================>.] - ETA: 0s - loss: 0.5234 - accuracy: 0.8062\n",
      "Epoch 46: val_loss improved from 0.85014 to 0.84188, saving model to c:\\Users\\james\\OneDrive\\GradSchool\\Spring 2022\\DeepLearningProject-redone\\Models\\CNN.h5\n",
      "830/830 [==============================] - 17s 20ms/step - loss: 0.5238 - accuracy: 0.8060 - val_loss: 0.8419 - val_accuracy: 0.6982\n",
      "Epoch 47/100\n",
      "829/830 [============================>.] - ETA: 0s - loss: 0.4988 - accuracy: 0.8146\n",
      "Epoch 47: val_loss improved from 0.84188 to 0.79958, saving model to c:\\Users\\james\\OneDrive\\GradSchool\\Spring 2022\\DeepLearningProject-redone\\Models\\CNN.h5\n",
      "830/830 [==============================] - 17s 20ms/step - loss: 0.4988 - accuracy: 0.8147 - val_loss: 0.7996 - val_accuracy: 0.7165\n",
      "Epoch 48/100\n",
      "828/830 [============================>.] - ETA: 0s - loss: 0.4591 - accuracy: 0.8314\n",
      "Epoch 48: val_loss did not improve from 0.79958\n",
      "830/830 [==============================] - 20s 24ms/step - loss: 0.4593 - accuracy: 0.8312 - val_loss: 0.8028 - val_accuracy: 0.7078\n",
      "Epoch 49/100\n",
      "830/830 [==============================] - ETA: 0s - loss: 0.4471 - accuracy: 0.8337\n",
      "Epoch 49: val_loss improved from 0.79958 to 0.77718, saving model to c:\\Users\\james\\OneDrive\\GradSchool\\Spring 2022\\DeepLearningProject-redone\\Models\\CNN.h5\n",
      "830/830 [==============================] - 19s 23ms/step - loss: 0.4471 - accuracy: 0.8337 - val_loss: 0.7772 - val_accuracy: 0.7252\n",
      "Epoch 50/100\n",
      "830/830 [==============================] - ETA: 0s - loss: 0.4276 - accuracy: 0.8421\n",
      "Epoch 50: val_loss improved from 0.77718 to 0.77034, saving model to c:\\Users\\james\\OneDrive\\GradSchool\\Spring 2022\\DeepLearningProject-redone\\Models\\CNN.h5\n",
      "830/830 [==============================] - 19s 23ms/step - loss: 0.4276 - accuracy: 0.8421 - val_loss: 0.7703 - val_accuracy: 0.7377\n",
      "Epoch 51/100\n",
      "830/830 [==============================] - ETA: 0s - loss: 0.4150 - accuracy: 0.8484\n",
      "Epoch 51: val_loss improved from 0.77034 to 0.74921, saving model to c:\\Users\\james\\OneDrive\\GradSchool\\Spring 2022\\DeepLearningProject-redone\\Models\\CNN.h5\n",
      "830/830 [==============================] - 18s 21ms/step - loss: 0.4150 - accuracy: 0.8484 - val_loss: 0.7492 - val_accuracy: 0.7454\n",
      "Epoch 52/100\n",
      "830/830 [==============================] - ETA: 0s - loss: 0.3782 - accuracy: 0.8650\n",
      "Epoch 52: val_loss improved from 0.74921 to 0.71791, saving model to c:\\Users\\james\\OneDrive\\GradSchool\\Spring 2022\\DeepLearningProject-redone\\Models\\CNN.h5\n",
      "830/830 [==============================] - 17s 21ms/step - loss: 0.3782 - accuracy: 0.8650 - val_loss: 0.7179 - val_accuracy: 0.7541\n",
      "Epoch 53/100\n",
      "828/830 [============================>.] - ETA: 0s - loss: 0.3646 - accuracy: 0.8696\n",
      "Epoch 53: val_loss improved from 0.71791 to 0.70218, saving model to c:\\Users\\james\\OneDrive\\GradSchool\\Spring 2022\\DeepLearningProject-redone\\Models\\CNN.h5\n",
      "830/830 [==============================] - 18s 22ms/step - loss: 0.3651 - accuracy: 0.8694 - val_loss: 0.7022 - val_accuracy: 0.7551\n",
      "Epoch 54/100\n",
      "829/830 [============================>.] - ETA: 0s - loss: 0.3613 - accuracy: 0.8685\n",
      "Epoch 54: val_loss improved from 0.70218 to 0.66257, saving model to c:\\Users\\james\\OneDrive\\GradSchool\\Spring 2022\\DeepLearningProject-redone\\Models\\CNN.h5\n",
      "830/830 [==============================] - 16s 20ms/step - loss: 0.3613 - accuracy: 0.8685 - val_loss: 0.6626 - val_accuracy: 0.7647\n",
      "Epoch 55/100\n",
      "827/830 [============================>.] - ETA: 0s - loss: 0.3445 - accuracy: 0.8775\n",
      "Epoch 55: val_loss did not improve from 0.66257\n",
      "830/830 [==============================] - 16s 19ms/step - loss: 0.3440 - accuracy: 0.8776 - val_loss: 0.6789 - val_accuracy: 0.7676\n",
      "Epoch 56/100\n",
      "830/830 [==============================] - ETA: 0s - loss: 0.3247 - accuracy: 0.8873\n",
      "Epoch 56: val_loss did not improve from 0.66257\n",
      "830/830 [==============================] - 16s 19ms/step - loss: 0.3247 - accuracy: 0.8873 - val_loss: 0.6680 - val_accuracy: 0.7618\n",
      "Epoch 57/100\n",
      "829/830 [============================>.] - ETA: 0s - loss: 0.3094 - accuracy: 0.8884\n",
      "Epoch 57: val_loss improved from 0.66257 to 0.65615, saving model to c:\\Users\\james\\OneDrive\\GradSchool\\Spring 2022\\DeepLearningProject-redone\\Models\\CNN.h5\n",
      "830/830 [==============================] - 16s 20ms/step - loss: 0.3093 - accuracy: 0.8885 - val_loss: 0.6561 - val_accuracy: 0.7782\n",
      "Epoch 58/100\n",
      "828/830 [============================>.] - ETA: 0s - loss: 0.3135 - accuracy: 0.8928\n",
      "Epoch 58: val_loss improved from 0.65615 to 0.63446, saving model to c:\\Users\\james\\OneDrive\\GradSchool\\Spring 2022\\DeepLearningProject-redone\\Models\\CNN.h5\n",
      "830/830 [==============================] - 16s 20ms/step - loss: 0.3136 - accuracy: 0.8927 - val_loss: 0.6345 - val_accuracy: 0.7917\n",
      "Epoch 59/100\n",
      "828/830 [============================>.] - ETA: 0s - loss: 0.2914 - accuracy: 0.8989\n",
      "Epoch 59: val_loss did not improve from 0.63446\n",
      "830/830 [==============================] - 16s 20ms/step - loss: 0.2913 - accuracy: 0.8990 - val_loss: 0.6351 - val_accuracy: 0.7927\n",
      "Epoch 60/100\n",
      "829/830 [============================>.] - ETA: 0s - loss: 0.2859 - accuracy: 0.8984\n",
      "Epoch 60: val_loss improved from 0.63446 to 0.62954, saving model to c:\\Users\\james\\OneDrive\\GradSchool\\Spring 2022\\DeepLearningProject-redone\\Models\\CNN.h5\n",
      "830/830 [==============================] - 16s 20ms/step - loss: 0.2861 - accuracy: 0.8984 - val_loss: 0.6295 - val_accuracy: 0.7830\n",
      "Epoch 61/100\n",
      "829/830 [============================>.] - ETA: 0s - loss: 0.2696 - accuracy: 0.9071\n",
      "Epoch 61: val_loss improved from 0.62954 to 0.58946, saving model to c:\\Users\\james\\OneDrive\\GradSchool\\Spring 2022\\DeepLearningProject-redone\\Models\\CNN.h5\n",
      "830/830 [==============================] - 19s 23ms/step - loss: 0.2695 - accuracy: 0.9072 - val_loss: 0.5895 - val_accuracy: 0.7927\n",
      "Epoch 62/100\n",
      "828/830 [============================>.] - ETA: 0s - loss: 0.2710 - accuracy: 0.9047\n",
      "Epoch 62: val_loss did not improve from 0.58946\n",
      "830/830 [==============================] - 17s 20ms/step - loss: 0.2709 - accuracy: 0.9048 - val_loss: 0.5903 - val_accuracy: 0.8071\n",
      "Epoch 63/100\n",
      "830/830 [==============================] - ETA: 0s - loss: 0.2484 - accuracy: 0.9108\n",
      "Epoch 63: val_loss did not improve from 0.58946\n",
      "830/830 [==============================] - 16s 20ms/step - loss: 0.2484 - accuracy: 0.9108 - val_loss: 0.6036 - val_accuracy: 0.7917\n",
      "Epoch 64/100\n",
      "827/830 [============================>.] - ETA: 0s - loss: 0.2528 - accuracy: 0.9134\n",
      "Epoch 64: val_loss improved from 0.58946 to 0.58254, saving model to c:\\Users\\james\\OneDrive\\GradSchool\\Spring 2022\\DeepLearningProject-redone\\Models\\CNN.h5\n",
      "830/830 [==============================] - 16s 19ms/step - loss: 0.2525 - accuracy: 0.9136 - val_loss: 0.5825 - val_accuracy: 0.8062\n",
      "Epoch 65/100\n",
      "828/830 [============================>.] - ETA: 0s - loss: 0.2363 - accuracy: 0.9178\n",
      "Epoch 65: val_loss did not improve from 0.58254\n",
      "830/830 [==============================] - 17s 21ms/step - loss: 0.2359 - accuracy: 0.9179 - val_loss: 0.5845 - val_accuracy: 0.8042\n",
      "Epoch 66/100\n",
      "829/830 [============================>.] - ETA: 0s - loss: 0.2162 - accuracy: 0.9246\n",
      "Epoch 66: val_loss did not improve from 0.58254\n",
      "830/830 [==============================] - 16s 19ms/step - loss: 0.2166 - accuracy: 0.9244 - val_loss: 0.6298 - val_accuracy: 0.7994\n",
      "Epoch 67/100\n",
      "829/830 [============================>.] - ETA: 0s - loss: 0.2293 - accuracy: 0.9222\n",
      "Epoch 67: val_loss did not improve from 0.58254\n",
      "830/830 [==============================] - 16s 19ms/step - loss: 0.2293 - accuracy: 0.9222 - val_loss: 0.6066 - val_accuracy: 0.8042\n",
      "Epoch 68/100\n",
      "828/830 [============================>.] - ETA: 0s - loss: 0.2107 - accuracy: 0.9279\n",
      "Epoch 68: val_loss did not improve from 0.58254\n",
      "830/830 [==============================] - 16s 19ms/step - loss: 0.2105 - accuracy: 0.9279 - val_loss: 0.5832 - val_accuracy: 0.8120\n"
     ]
    }
   ],
   "source": [
    "hist = model_CNN.fit(X_train_nn, y_train_nn, epochs=100, batch_size=10, validation_data=(X_val_nn,y_val_nn),\n",
    "                shuffle=True, callbacks=callbacksList, verbose=1)"
   ]
  },
  {
   "cell_type": "code",
   "execution_count": 62,
   "metadata": {},
   "outputs": [
    {
     "data": {
      "text/plain": [
       "<matplotlib.legend.Legend at 0x11385989430>"
      ]
     },
     "execution_count": 62,
     "metadata": {},
     "output_type": "execute_result"
    },
    {
     "data": {
      "image/png": "[encoded data removed]",
      "text/plain": [
       "<Figure size 432x288 with 2 Axes>"
      ]
     },
     "metadata": {
      "needs_background": "light"
     },
     "output_type": "display_data"
    }
   ],
   "source": [
    "fig,ax=plt.subplots()\n",
    "ax.plot(hist.history['accuracy'], color = 'b')\n",
    "ax.plot(hist.history['val_accuracy'], linestyle=':', color = 'b')\n",
    "ax.set_ylabel(\"Accuracy\", color = 'b')\n",
    "ax.set_ylim([0,1])\n",
    "ax2=ax.twinx()\n",
    "ax2.plot(hist.history['loss'],  color = 'r')\n",
    "ax2.plot(hist.history['val_loss'], linestyle=':',  color = 'r')\n",
    "ax2.set_ylabel(\"Loss (cross-entropy)\",  color = 'r')\n",
    "fig.legend(['accuracy','val_accuracy','loss','val_loss'])"
   ]
  },
  {
   "cell_type": "code",
   "execution_count": 63,
   "metadata": {},
   "outputs": [
    {
     "name": "stdout",
     "output_type": "stream",
     "text": [
      "33/33 [==============================] - 1s 9ms/step\n",
      "\n",
      " Cohen kappa \n",
      "\n",
      " 0.7274189208792762\n",
      "\n",
      " Classification report \n",
      "\n",
      "               precision    recall  f1-score   support\n",
      "\n",
      "        feet       0.77      0.75      0.76       259\n",
      "   left hand       0.83      0.83      0.83       260\n",
      "  right hand       0.82      0.80      0.81       259\n",
      "      tongue       0.77      0.80      0.78       259\n",
      "\n",
      "    accuracy                           0.80      1037\n",
      "   macro avg       0.80      0.80      0.80      1037\n",
      "weighted avg       0.80      0.80      0.80      1037\n",
      "\n",
      "\n",
      " Confusion matrix \n",
      "\n",
      " [[195  18  17  29]\n",
      " [ 15 215  13  17]\n",
      " [ 20  14 208  17]\n",
      " [ 23  12  17 207]]\n"
     ]
    },
    {
     "data": {
      "text/plain": [
       "<matplotlib.axes._subplots.AxesSubplot at 0x11385a33f70>"
      ]
     },
     "execution_count": 63,
     "metadata": {},
     "output_type": "execute_result"
    },
    {
     "data": {
      "image/png": "[encoded data removed]",
      "text/plain": [
       "<Figure size 432x288 with 2 Axes>"
      ]
     },
     "metadata": {
      "needs_background": "light"
     },
     "output_type": "display_data"
    }
   ],
   "source": [
    "y_pred = model_CNN.predict(X_test_nn)\n",
    "\n",
    "# convert from one hot encode in string\n",
    "yTestClass = np.argmax(y_test_nn, axis=1)\n",
    "yPredClass = np.argmax(y_pred,axis=1)\n",
    "\n",
    "print('\\n Cohen kappa \\n\\n',\n",
    "  cohen_kappa_score(\n",
    "      yTestClass,\n",
    "      yPredClass\n",
    "      )\n",
    "  )\n",
    "\n",
    "print('\\n Classification report \\n\\n',\n",
    "  classification_report(\n",
    "      yTestClass,\n",
    "      yPredClass,\n",
    "       target_names=Epochs.event_id\n",
    "      )\n",
    "  )\n",
    "\n",
    "print('\\n Confusion matrix \\n\\n',\n",
    "  confusion_matrix(\n",
    "      yTestClass,\n",
    "      yPredClass,\n",
    "      )\n",
    "  )\n",
    "\n",
    "sns.heatmap(confusion_matrix(\n",
    "      yTestClass,\n",
    "      yPredClass\n",
    "      ))"
   ]
  },
  {
   "cell_type": "markdown",
   "metadata": {},
   "source": [
    "# Extra Experiments"
   ]
  },
  {
   "cell_type": "markdown",
   "metadata": {},
   "source": [
    "### Autoenconder + MLP"
   ]
  },
  {
   "cell_type": "markdown",
   "metadata": {},
   "source": [
    "Set up autoencoder (creating a latent space and a decoder from the convolutional architecture)"
   ]
  },
  {
   "cell_type": "code",
   "execution_count": 64,
   "metadata": {},
   "outputs": [],
   "source": [
    "latent_dim = 296\n",
    "\n",
    "class MyEncoder(tf.keras.Model):\n",
    "    \"\"\"\n",
    "    Based on Original HopeFullNet\n",
    "    \"\"\"\n",
    "    def __init__(self, inp_shape = (640,2)):\n",
    "        super(MyEncoder, self).__init__()\n",
    "        self.inp_shape = inp_shape\n",
    "\n",
    "        self.kernel_size_0 = 20\n",
    "        self.kernel_size_1 = 6\n",
    "        self.drop_rate = 0.5\n",
    "\n",
    "        self.conv1 = tf.keras.layers.Conv1D(filters=32,\n",
    "                                            kernel_size=self.kernel_size_0,\n",
    "                                            activation='relu',\n",
    "                                            padding= \"same\",\n",
    "                                            input_shape=self.inp_shape)\n",
    "        self.batch_n_1 = tfp.bijectors.BatchNormalization()\n",
    "        self.conv2 = tf.keras.layers.Conv1D(filters=32,\n",
    "                                            kernel_size=self.kernel_size_0,\n",
    "                                            activation='relu',\n",
    "                                            padding= \"valid\")\n",
    "        self.batch_n_2 = tfp.bijectors.BatchNormalization()\n",
    "        self.spatial_drop_1 = tf.keras.layers.SpatialDropout1D(self.drop_rate)\n",
    "        self.conv3 = tf.keras.layers.Conv1D(filters=32,\n",
    "                                            kernel_size=self.kernel_size_1,\n",
    "                                            activation='relu',\n",
    "                                            padding= \"valid\")\n",
    "        self.avg_pool1 = tf.keras.layers.AvgPool1D(pool_size=2)\n",
    "        self.conv4 = tf.keras.layers.Conv1D(filters=32,\n",
    "                                            kernel_size=self.kernel_size_1,\n",
    "                                            activation='relu',\n",
    "                                            padding= \"valid\")\n",
    "        self.spatial_drop_2 = tf.keras.layers.SpatialDropout1D(self.drop_rate)\n",
    "        self.flat = tf.keras.layers.Flatten()\n",
    "        self.out = tf.keras.layers.Dense(296, activation='relu')\n",
    "\n",
    "    def call(self, input_tensor):\n",
    "        conv1 = self.conv1(input_tensor)\n",
    "        batch_n_1 = self.batch_n_1(conv1)\n",
    "        conv2 = self.conv2(batch_n_1)\n",
    "        batch_n_2 = self.batch_n_2(conv2)\n",
    "        spatial_drop_1 = self.spatial_drop_1(batch_n_2)\n",
    "        conv3 = self.conv3(spatial_drop_1)\n",
    "        avg_pool1 = self.avg_pool1(conv3)\n",
    "        conv4 = self.conv4(avg_pool1)\n",
    "        spatial_drop_2 = self.spatial_drop_2(conv4)\n",
    "        flat = self.flat(spatial_drop_2)\n",
    "        return self.out(flat)\n",
    "\n",
    "class MyDecoder(tf.keras.Model):\n",
    "    \"\"\"\n",
    "    Based on Original HopeFullNet\n",
    "    \"\"\"\n",
    "    def __init__(self, inp_shape = (296,)):\n",
    "        super(MyDecoder, self).__init__()\n",
    "        self.inp_shape = inp_shape\n",
    "\n",
    "        self.kernel_size_0 = 20\n",
    "        self.kernel_size_1 = 6\n",
    "        self.drop_rate = 0.5\n",
    "\n",
    "        self.conv1 = tf.keras.layers.Conv1DTranspose(filters=32,\n",
    "                                            kernel_size=self.kernel_size_0,\n",
    "                                            activation='relu',\n",
    "                                            padding= \"same\",\n",
    "                                            input_shape=self.inp_shape)\n",
    "        self.batch_n_1 = tfp.bijectors.BatchNormalization()\n",
    "        self.conv2 = tf.keras.layers.Conv1DTranspose(filters=32,\n",
    "                                            kernel_size=self.kernel_size_0,\n",
    "                                            activation='relu',\n",
    "                                            padding= \"valid\")\n",
    "        self.batch_n_2 = tfp.bijectors.BatchNormalization()\n",
    "        self.spatial_drop_1 = tf.keras.layers.SpatialDropout1D(self.drop_rate)\n",
    "        self.conv3 = tf.keras.layers.Conv1DTranspose(filters=32,\n",
    "                                            kernel_size=self.kernel_size_1,\n",
    "                                            activation='relu',\n",
    "                                            padding= \"valid\")\n",
    "        self.avg_pool1 = tf.keras.layers.AvgPool1D(pool_size=2)\n",
    "        self.conv4 = tf.keras.layers.Conv1DTranspose(filters=32,\n",
    "                                            kernel_size=self.kernel_size_1,\n",
    "                                            activation='relu',\n",
    "                                            padding= \"valid\")\n",
    "        self.spatial_drop_2 = tf.keras.layers.SpatialDropout1D(self.drop_rate)\n",
    "        self.reshape1 = tf.keras.layers.Reshape((148,2))\n",
    "        self.flat = tf.keras.layers.Flatten()\n",
    "        self.dense1 = tf.keras.layers.Dense(296, activation='relu')\n",
    "        self.dropout1 = tf.keras.layers.Dropout(self.drop_rate)\n",
    "        self.dense2 = tf.keras.layers.Dense(148, activation='relu')\n",
    "        self.dropout2 = tf.keras.layers.Dropout(self.drop_rate)\n",
    "        self.out = tf.keras.layers.Dense(1280, activation='relu')\n",
    "        self.reshape2 = tf.keras.layers.Reshape((640,2))\n",
    "\n",
    "    def call(self, input_tensor):\n",
    "        dense1 = self.dense1(input_tensor)\n",
    "        flat = self.reshape1(dense1)\n",
    "        spatial_drop_2 = self.spatial_drop_2(flat)\n",
    "        conv4 = self.conv4(spatial_drop_2)\n",
    "        avg_pool1 = self.avg_pool1(conv4)\n",
    "        conv3 = self.conv3(avg_pool1)\n",
    "        spatial_drop_1 = self.spatial_drop_1(conv3)\n",
    "        batch_n_2 = self.batch_n_2(spatial_drop_1)\n",
    "        conv2 = self.conv2(batch_n_2)\n",
    "        batch_n_1 = self.batch_n_1(conv2)\n",
    "        conv1 = self.conv1(batch_n_1)\n",
    "        flat1 = self.flat(conv1)\n",
    "        last = self.out(flat1)\n",
    "        return self.reshape2(last)\n",
    "\n",
    "\n",
    "class Autoencoder(tf.keras.models.Model):\n",
    "  def __init__(self, latent_dim):\n",
    "    super(Autoencoder, self).__init__()\n",
    "    self.latent_dim = latent_dim   \n",
    "    self.encoder = MyEncoder()\n",
    "    self.decoder = MyDecoder()\n",
    "\n",
    "  def call(self, x):\n",
    "    encoded = self.encoder(x)\n",
    "    decoded = self.decoder(encoded)\n",
    "    return decoded"
   ]
  },
  {
   "cell_type": "markdown",
   "metadata": {},
   "source": [
    "comile and train autoencoder"
   ]
  },
  {
   "cell_type": "code",
   "execution_count": 65,
   "metadata": {},
   "outputs": [],
   "source": [
    "model_autoencoder = Autoencoder(latent_dim)\n",
    "model_autoencoder.compile(optimizer='adam', loss=losses.MeanSquaredError())\n",
    "\n",
    "modelPath = filepath+'\\\\Models\\\\autoencoder.h5'\n",
    "\n",
    "# build callback list\n",
    "checkpoint = ModelCheckpoint( # set model saving checkpoints\n",
    "    modelPath, # set path to save model weights\n",
    "    monitor='val_loss', # set monitor metrics\n",
    "    verbose=1, # set training verbosity\n",
    "    save_best_only=True, # set if want to save only best weights\n",
    "    save_weights_only=True, # set if you want to save only model weights\n",
    "    mode='auto', # set if save min or max in metrics\n",
    "    save_freq='epoch' # interval between checkpoints\n",
    "    )\n",
    "\n",
    "earlystopping = EarlyStopping(\n",
    "    monitor='val_loss', # set monitor metrics\n",
    "    min_delta=0.001, # set minimum metrics delta\n",
    "    patience=5, # number of epochs to stop training\n",
    "    restore_best_weights=True, # set if use best weights or last weights\n",
    "    )\n",
    "callbacksList = [checkpoint, earlystopping] # build callbacks list"
   ]
  },
  {
   "cell_type": "code",
   "execution_count": 66,
   "metadata": {},
   "outputs": [
    {
     "name": "stdout",
     "output_type": "stream",
     "text": [
      "Epoch 1/100\n",
      "830/830 [==============================] - ETA: 0s - loss: 13.4545\n",
      "Epoch 1: val_loss improved from inf to 14.18644, saving model to c:\\Users\\james\\OneDrive\\GradSchool\\Spring 2022\\DeepLearningProject-redone\\Models\\autoencoder.h5\n",
      "830/830 [==============================] - 25s 24ms/step - loss: 13.4545 - val_loss: 14.1864\n",
      "Epoch 2/100\n",
      "830/830 [==============================] - ETA: 0s - loss: 13.4530\n",
      "Epoch 2: val_loss did not improve from 14.18644\n",
      "830/830 [==============================] - 20s 24ms/step - loss: 13.4530 - val_loss: 14.1866\n",
      "Epoch 3/100\n",
      "828/830 [============================>.] - ETA: 0s - loss: 13.4540\n",
      "Epoch 3: val_loss improved from 14.18644 to 14.18437, saving model to c:\\Users\\james\\OneDrive\\GradSchool\\Spring 2022\\DeepLearningProject-redone\\Models\\autoencoder.h5\n",
      "830/830 [==============================] - 19s 23ms/step - loss: 13.4518 - val_loss: 14.1844\n",
      "Epoch 4/100\n",
      "830/830 [==============================] - ETA: 0s - loss: 13.4510\n",
      "Epoch 4: val_loss did not improve from 14.18437\n",
      "830/830 [==============================] - 20s 24ms/step - loss: 13.4510 - val_loss: 14.1844\n",
      "Epoch 5/100\n",
      "829/830 [============================>.] - ETA: 0s - loss: 13.4432\n",
      "Epoch 5: val_loss improved from 14.18437 to 14.18392, saving model to c:\\Users\\james\\OneDrive\\GradSchool\\Spring 2022\\DeepLearningProject-redone\\Models\\autoencoder.h5\n",
      "830/830 [==============================] - 20s 24ms/step - loss: 13.4508 - val_loss: 14.1839\n",
      "Epoch 6/100\n",
      "828/830 [============================>.] - ETA: 0s - loss: 13.4505\n",
      "Epoch 6: val_loss did not improve from 14.18392\n",
      "830/830 [==============================] - 20s 24ms/step - loss: 13.4508 - val_loss: 14.1842\n",
      "Epoch 7/100\n",
      "830/830 [==============================] - ETA: 0s - loss: 13.4508\n",
      "Epoch 7: val_loss did not improve from 14.18392\n",
      "830/830 [==============================] - 19s 23ms/step - loss: 13.4508 - val_loss: 14.1845\n",
      "Epoch 8/100\n",
      "830/830 [==============================] - ETA: 0s - loss: 13.4508\n",
      "Epoch 8: val_loss did not improve from 14.18392\n",
      "830/830 [==============================] - 19s 23ms/step - loss: 13.4508 - val_loss: 14.1841\n"
     ]
    }
   ],
   "source": [
    "hist = model_autoencoder.fit(X_train_nn, X_train_nn, \n",
    "                epochs=100, batch_size=10,\n",
    "                shuffle=True,\n",
    "                validation_data=(X_val_nn,X_val_nn),\n",
    "                callbacks = callbacksList,\n",
    "                verbose=1)"
   ]
  },
  {
   "cell_type": "code",
   "execution_count": 67,
   "metadata": {},
   "outputs": [
    {
     "data": {
      "text/plain": [
       "<matplotlib.legend.Legend at 0x11549649e80>"
      ]
     },
     "execution_count": 67,
     "metadata": {},
     "output_type": "execute_result"
    },
    {
     "data": {
      "image/png": "[encoded data removed]",
      "text/plain": [
       "<Figure size 432x288 with 1 Axes>"
      ]
     },
     "metadata": {
      "needs_background": "light"
     },
     "output_type": "display_data"
    }
   ],
   "source": [
    "plt.plot(hist.history['loss'])\n",
    "plt.plot(hist.history['val_loss'])\n",
    "plt.legend(['loss', 'val_loss'])"
   ]
  },
  {
   "cell_type": "code",
   "execution_count": 68,
   "metadata": {},
   "outputs": [
    {
     "name": "stdout",
     "output_type": "stream",
     "text": [
      "Model: \"autoencoder_1\"\n",
      "_________________________________________________________________\n",
      " Layer (type)                Output Shape              Param #   \n",
      "=================================================================\n",
      " my_encoder_1 (MyEncoder)    multiple                  2904744   \n",
      "                                                                 \n",
      " my_decoder_1 (MyDecoder)    multiple                  4233064   \n",
      "                                                                 \n",
      "=================================================================\n",
      "Total params: 7,137,808\n",
      "Trainable params: 7,137,552\n",
      "Non-trainable params: 256\n",
      "_________________________________________________________________\n"
     ]
    }
   ],
   "source": [
    "model_autoencoder.summary()"
   ]
  },
  {
   "cell_type": "markdown",
   "metadata": {},
   "source": [
    "Extract and freeze trained encoder and add an MLP to the output of the encoder (latent space)"
   ]
  },
  {
   "cell_type": "code",
   "execution_count": 69,
   "metadata": {},
   "outputs": [
    {
     "name": "stdout",
     "output_type": "stream",
     "text": [
      "<keras.layers.convolutional.conv1d.Conv1D object at 0x000001138E486F10>\n",
      "False\n",
      "<keras.layers.convolutional.conv1d.Conv1D object at 0x0000011384AC9610>\n",
      "False\n",
      "<keras.layers.regularization.spatial_dropout1d.SpatialDropout1D object at 0x000001138E47E2E0>\n",
      "False\n",
      "<keras.layers.convolutional.conv1d.Conv1D object at 0x0000011385AA6190>\n",
      "False\n",
      "<keras.layers.pooling.average_pooling1d.AveragePooling1D object at 0x0000011385AA6400>\n",
      "False\n",
      "<keras.layers.convolutional.conv1d.Conv1D object at 0x00000113859DA2B0>\n",
      "False\n",
      "<keras.layers.regularization.spatial_dropout1d.SpatialDropout1D object at 0x0000011385AA6580>\n",
      "False\n",
      "<keras.layers.reshaping.flatten.Flatten object at 0x00000113859E6B50>\n",
      "False\n",
      "<keras.layers.core.dense.Dense object at 0x00000113859E6670>\n",
      "False\n",
      "<keras.layers.regularization.dropout.Dropout object at 0x00000115A8FCA490>\n",
      "True\n",
      "<keras.layers.core.dense.Dense object at 0x000001138BFAB6D0>\n",
      "True\n",
      "<keras.layers.regularization.dropout.Dropout object at 0x00000115A8B64BB0>\n",
      "True\n",
      "<keras.layers.core.dense.Dense object at 0x0000011385A93B80>\n",
      "True\n",
      "<keras.layers.regularization.dropout.Dropout object at 0x00000114899E3B20>\n",
      "True\n",
      "<keras.layers.core.dense.Dense object at 0x00000114899E3A30>\n",
      "True\n",
      "Model: \"sequential_2\"\n",
      "_________________________________________________________________\n",
      " Layer (type)                Output Shape              Param #   \n",
      "=================================================================\n",
      " conv1d_8 (Conv1D)           (None, 640, 32)           1312      \n",
      "                                                                 \n",
      " conv1d_9 (Conv1D)           (None, 621, 32)           20512     \n",
      "                                                                 \n",
      " spatial_dropout1d_6 (Spatia  (None, 621, 32)          0         \n",
      " lDropout1D)                                                     \n",
      "                                                                 \n",
      " conv1d_10 (Conv1D)          (None, 616, 32)           6176      \n",
      "                                                                 \n",
      " average_pooling1d_3 (Averag  (None, 308, 32)          0         \n",
      " ePooling1D)                                                     \n",
      "                                                                 \n",
      " conv1d_11 (Conv1D)          (None, 303, 32)           6176      \n",
      "                                                                 \n",
      " spatial_dropout1d_7 (Spatia  (None, 303, 32)          0         \n",
      " lDropout1D)                                                     \n",
      "                                                                 \n",
      " flatten_3 (Flatten)         (None, 9696)              0         \n",
      "                                                                 \n",
      " dense_16 (Dense)            (None, 296)               2870312   \n",
      "                                                                 \n",
      " dropout_13 (Dropout)        (None, 296)               0         \n",
      "                                                                 \n",
      " dense_20 (Dense)            (None, 148)               43956     \n",
      "                                                                 \n",
      " dropout_14 (Dropout)        (None, 148)               0         \n",
      "                                                                 \n",
      " dense_21 (Dense)            (None, 74)                11026     \n",
      "                                                                 \n",
      " dropout_15 (Dropout)        (None, 74)                0         \n",
      "                                                                 \n",
      " dense_22 (Dense)            (None, 4)                 300       \n",
      "                                                                 \n",
      "=================================================================\n",
      "Total params: 2,959,770\n",
      "Trainable params: 55,282\n",
      "Non-trainable params: 2,904,488\n",
      "_________________________________________________________________\n"
     ]
    }
   ],
   "source": [
    "model_encoder_MLP = tf.keras.Sequential()\n",
    "for layer in model_autoencoder.encoder.layers:\n",
    "    layer.trainable = False\n",
    "    model_encoder_MLP.add(layer)\n",
    "drop_rate = 0.5\n",
    "model_encoder_MLP.add(tf.keras.layers.Dropout(drop_rate))\n",
    "model_encoder_MLP.add(tf.keras.layers.Dense(148, activation='relu'))\n",
    "model_encoder_MLP.add(tf.keras.layers.Dropout(drop_rate))\n",
    "model_encoder_MLP.add(tf.keras.layers.Dense(74, activation='relu'))\n",
    "model_encoder_MLP.add(tf.keras.layers.Dropout(drop_rate))\n",
    "model_encoder_MLP.add(tf.keras.layers.Dense(4, activation='softmax'))\n",
    "\n",
    "# check trainablitity\n",
    "\n",
    "for layer in model_encoder_MLP.layers:\n",
    "    print(layer)\n",
    "    print(layer.trainable)\n",
    "\n",
    "model_encoder_MLP.summary()"
   ]
  },
  {
   "cell_type": "markdown",
   "metadata": {},
   "source": [
    "Compile network and train MLP portion"
   ]
  },
  {
   "cell_type": "code",
   "execution_count": 70,
   "metadata": {},
   "outputs": [],
   "source": [
    "learning_rate = 1e-4\n",
    "\n",
    "loss = tf.keras.losses.categorical_crossentropy\n",
    "optimizer = tf.keras.optimizers.Adam(learning_rate=learning_rate)\n",
    "\n",
    "model_encoder_MLP.compile(loss=loss, optimizer=optimizer, metrics=['accuracy'])\n",
    "\n",
    "# Where to save model\n",
    "modelPath = filepath + r'\\models\\encoder_MLP_Model.h5'\n",
    "\n",
    "# build callback list\n",
    "checkpoint = ModelCheckpoint(  # set model saving checkpoints\n",
    "    modelPath,  # set path to save model weights\n",
    "    monitor='val_loss',  # set monitor metrics\n",
    "    verbose=1,  # set training verbosity\n",
    "    save_best_only=True,  # set if want to save only best weights\n",
    "    save_weights_only=True,  # set if you want to save only model weights\n",
    "    mode='auto',  # set if save min or max in metrics\n",
    "    save_freq='epoch'  # interval between checkpoints\n",
    ")\n",
    "\n",
    "earlystopping = EarlyStopping(\n",
    "    monitor='val_loss',  # set monitor metrics\n",
    "    min_delta=0.01,  # set minimum metrics delta\n",
    "    patience=3,  # number of epochs to stop training\n",
    "    restore_best_weights=True,  # set if use best weights or last weights\n",
    ")\n",
    "callbacksList = [checkpoint, earlystopping]  # build callbacks list\n"
   ]
  },
  {
   "cell_type": "code",
   "execution_count": 71,
   "metadata": {},
   "outputs": [
    {
     "name": "stdout",
     "output_type": "stream",
     "text": [
      "Epoch 1/100\n",
      "826/830 [============================>.] - ETA: 0s - loss: 1.3878 - accuracy: 0.2441\n",
      "Epoch 1: val_loss improved from inf to 1.38630, saving model to c:\\Users\\james\\OneDrive\\GradSchool\\Spring 2022\\DeepLearningProject-redone\\models\\encoder_MLP_Model.h5\n",
      "830/830 [==============================] - 9s 10ms/step - loss: 1.3878 - accuracy: 0.2439 - val_loss: 1.3863 - val_accuracy: 0.2488\n",
      "Epoch 2/100\n",
      "829/830 [============================>.] - ETA: 0s - loss: 1.3872 - accuracy: 0.2486\n",
      "Epoch 2: val_loss improved from 1.38630 to 1.38627, saving model to c:\\Users\\james\\OneDrive\\GradSchool\\Spring 2022\\DeepLearningProject-redone\\models\\encoder_MLP_Model.h5\n",
      "830/830 [==============================] - 8s 10ms/step - loss: 1.3872 - accuracy: 0.2486 - val_loss: 1.3863 - val_accuracy: 0.2401\n",
      "Epoch 3/100\n",
      "830/830 [==============================] - ETA: 0s - loss: 1.3872 - accuracy: 0.2457\n",
      "Epoch 3: val_loss improved from 1.38627 to 1.38626, saving model to c:\\Users\\james\\OneDrive\\GradSchool\\Spring 2022\\DeepLearningProject-redone\\models\\encoder_MLP_Model.h5\n",
      "830/830 [==============================] - 8s 10ms/step - loss: 1.3872 - accuracy: 0.2457 - val_loss: 1.3863 - val_accuracy: 0.2536\n",
      "Epoch 4/100\n",
      "826/830 [============================>.] - ETA: 0s - loss: 1.3866 - accuracy: 0.2536\n",
      "Epoch 4: val_loss did not improve from 1.38626\n",
      "830/830 [==============================] - 8s 9ms/step - loss: 1.3866 - accuracy: 0.2537 - val_loss: 1.3863 - val_accuracy: 0.2536\n"
     ]
    }
   ],
   "source": [
    "hist = model_encoder_MLP.fit(X_train_nn, y_train_nn, epochs=100, batch_size=10,\n",
    "                              validation_data=(X_val_nn, y_val_nn), callbacks=callbacksList, verbose=1)\n"
   ]
  },
  {
   "cell_type": "markdown",
   "metadata": {},
   "source": [
    "### Transfer Learning"
   ]
  },
  {
   "cell_type": "markdown",
   "metadata": {},
   "source": [
    "Load trained model from Mattoli et al."
   ]
  },
  {
   "cell_type": "code",
   "execution_count": 72,
   "metadata": {},
   "outputs": [],
   "source": [
    "trainedModel_loaded = tf.keras.models.load_model(filepath + '\\\\models\\\\roi_b')"
   ]
  },
  {
   "cell_type": "markdown",
   "metadata": {},
   "source": [
    "Replace the output layer for 4 rather than 5 classes"
   ]
  },
  {
   "cell_type": "code",
   "execution_count": 73,
   "metadata": {},
   "outputs": [
    {
     "name": "stdout",
     "output_type": "stream",
     "text": [
      "Model: \"sequential_3\"\n",
      "_________________________________________________________________\n",
      " Layer (type)                Output Shape              Param #   \n",
      "=================================================================\n",
      " conv1d (Conv1D)             (None, 640, 32)           1312      \n",
      "                                                                 \n",
      " batch_normalization (BatchN  (None, 640, 32)          128       \n",
      " ormalization)                                                   \n",
      "                                                                 \n",
      " conv1d_1 (Conv1D)           (None, 621, 32)           20512     \n",
      "                                                                 \n",
      " batch_normalization_1 (Batc  (None, 621, 32)          128       \n",
      " hNormalization)                                                 \n",
      "                                                                 \n",
      " spatial_dropout1d (SpatialD  (None, 621, 32)          0         \n",
      " ropout1D)                                                       \n",
      "                                                                 \n",
      " conv1d_2 (Conv1D)           (None, 616, 32)           6176      \n",
      "                                                                 \n",
      " average_pooling1d (AverageP  (None, 308, 32)          0         \n",
      " ooling1D)                                                       \n",
      "                                                                 \n",
      " conv1d_3 (Conv1D)           (None, 303, 32)           6176      \n",
      "                                                                 \n",
      " spatial_dropout1d_1 (Spatia  (None, 303, 32)          0         \n",
      " lDropout1D)                                                     \n",
      "                                                                 \n",
      " flatten (Flatten)           (None, 9696)              0         \n",
      "                                                                 \n",
      " dense (Dense)               (None, 296)               2870312   \n",
      "                                                                 \n",
      " dropout (Dropout)           (None, 296)               0         \n",
      "                                                                 \n",
      " dense_1 (Dense)             (None, 148)               43956     \n",
      "                                                                 \n",
      " dropout_1 (Dropout)         (None, 148)               0         \n",
      "                                                                 \n",
      " dense_23 (Dense)            (None, 74)                11026     \n",
      "                                                                 \n",
      " dropout_16 (Dropout)        (None, 74)                0         \n",
      "                                                                 \n",
      " dense_24 (Dense)            (None, 4)                 300       \n",
      "                                                                 \n",
      "=================================================================\n",
      "Total params: 2,960,026\n",
      "Trainable params: 2,959,898\n",
      "Non-trainable params: 128\n",
      "_________________________________________________________________\n"
     ]
    }
   ],
   "source": [
    "trainedModel_newLayers = tf.keras.Sequential()\n",
    "for layer in trainedModel_loaded.layers[:14]: # go through until flatten layer\n",
    "    trainedModel_newLayers.add(layer)\n",
    "\n",
    "trainedModel_newLayers.add(tf.keras.layers.Dense(74, activation='relu'))\n",
    "trainedModel_newLayers.add(tf.keras.layers.Dropout(0.5))\n",
    "trainedModel_newLayers.add(tf.keras.layers.Dense(4, activation='softmax'))\n",
    "\n",
    "trainedModel_newLayers.summary()"
   ]
  },
  {
   "cell_type": "markdown",
   "metadata": {},
   "source": [
    "Freeze the first few convolutional layers"
   ]
  },
  {
   "cell_type": "code",
   "execution_count": 74,
   "metadata": {},
   "outputs": [
    {
     "name": "stdout",
     "output_type": "stream",
     "text": [
      "<keras.layers.convolutional.conv1d.Conv1D object at 0x00000113D06AE160>\n",
      "Trainable? False\n",
      "<keras.layers.normalization.batch_normalization.BatchNormalization object at 0x00000113D06A5D00>\n",
      "Trainable? False\n",
      "<keras.layers.convolutional.conv1d.Conv1D object at 0x00000113D06F4BB0>\n",
      "Trainable? False\n",
      "<keras.layers.normalization.batch_normalization.BatchNormalization object at 0x00000113D06FD1C0>\n",
      "Trainable? False\n",
      "<keras.layers.regularization.spatial_dropout1d.SpatialDropout1D object at 0x00000113D06FD280>\n",
      "Trainable? False\n",
      "<keras.layers.convolutional.conv1d.Conv1D object at 0x00000113D06FDCD0>\n",
      "Trainable? False\n",
      "<keras.layers.pooling.average_pooling1d.AveragePooling1D object at 0x00000113D0703460>\n",
      "Trainable? False\n",
      "<keras.layers.convolutional.conv1d.Conv1D object at 0x00000113D0703730>\n",
      "Trainable? False\n",
      "<keras.layers.regularization.spatial_dropout1d.SpatialDropout1D object at 0x00000113D0703E80>\n",
      "Trainable? False\n",
      "<keras.layers.reshaping.flatten.Flatten object at 0x00000113D07090A0>\n",
      "Trainable? False\n",
      "<keras.layers.core.dense.Dense object at 0x00000113D0709310>\n",
      "Trainable? True\n",
      "<keras.layers.regularization.dropout.Dropout object at 0x00000113D0709670>\n",
      "Trainable? True\n",
      "<keras.layers.core.dense.Dense object at 0x00000113D07098B0>\n",
      "Trainable? True\n",
      "<keras.layers.regularization.dropout.Dropout object at 0x00000113D0709DF0>\n",
      "Trainable? True\n",
      "<keras.layers.core.dense.Dense object at 0x00000113853EEA60>\n",
      "Trainable? True\n",
      "<keras.layers.regularization.dropout.Dropout object at 0x000001138C036C70>\n",
      "Trainable? True\n",
      "<keras.layers.core.dense.Dense object at 0x000001138C042610>\n",
      "Trainable? True\n",
      "Model: \"sequential_3\"\n",
      "_________________________________________________________________\n",
      " Layer (type)                Output Shape              Param #   \n",
      "=================================================================\n",
      " conv1d (Conv1D)             (None, 640, 32)           1312      \n",
      "                                                                 \n",
      " batch_normalization (BatchN  (None, 640, 32)          128       \n",
      " ormalization)                                                   \n",
      "                                                                 \n",
      " conv1d_1 (Conv1D)           (None, 621, 32)           20512     \n",
      "                                                                 \n",
      " batch_normalization_1 (Batc  (None, 621, 32)          128       \n",
      " hNormalization)                                                 \n",
      "                                                                 \n",
      " spatial_dropout1d (SpatialD  (None, 621, 32)          0         \n",
      " ropout1D)                                                       \n",
      "                                                                 \n",
      " conv1d_2 (Conv1D)           (None, 616, 32)           6176      \n",
      "                                                                 \n",
      " average_pooling1d (AverageP  (None, 308, 32)          0         \n",
      " ooling1D)                                                       \n",
      "                                                                 \n",
      " conv1d_3 (Conv1D)           (None, 303, 32)           6176      \n",
      "                                                                 \n",
      " spatial_dropout1d_1 (Spatia  (None, 303, 32)          0         \n",
      " lDropout1D)                                                     \n",
      "                                                                 \n",
      " flatten (Flatten)           (None, 9696)              0         \n",
      "                                                                 \n",
      " dense (Dense)               (None, 296)               2870312   \n",
      "                                                                 \n",
      " dropout (Dropout)           (None, 296)               0         \n",
      "                                                                 \n",
      " dense_1 (Dense)             (None, 148)               43956     \n",
      "                                                                 \n",
      " dropout_1 (Dropout)         (None, 148)               0         \n",
      "                                                                 \n",
      " dense_23 (Dense)            (None, 74)                11026     \n",
      "                                                                 \n",
      " dropout_16 (Dropout)        (None, 74)                0         \n",
      "                                                                 \n",
      " dense_24 (Dense)            (None, 4)                 300       \n",
      "                                                                 \n",
      "=================================================================\n",
      "Total params: 2,960,026\n",
      "Trainable params: 2,925,594\n",
      "Non-trainable params: 34,432\n",
      "_________________________________________________________________\n"
     ]
    }
   ],
   "source": [
    "for i in range(10):\n",
    "    trainedModel_newLayers.layers[i].trainable = False\n",
    "\n",
    "for layer in trainedModel_newLayers.layers:\n",
    "    print(layer)\n",
    "    print('Trainable? ' + str(layer.trainable))\n",
    "\n",
    "trainedModel_newLayers.summary()"
   ]
  },
  {
   "cell_type": "markdown",
   "metadata": {},
   "source": [
    "Compile and train model"
   ]
  },
  {
   "cell_type": "code",
   "execution_count": 75,
   "metadata": {},
   "outputs": [],
   "source": [
    "learning_rate = 1e-4\n",
    "\n",
    "loss = tf.keras.losses.categorical_crossentropy\n",
    "optimizer = tf.keras.optimizers.Adam(learning_rate=learning_rate)\n",
    "modelPath = os.path.join(filepath+ '//Models//transModel_MLP.h5')\n",
    "\n",
    "trainedModel_newLayers.compile(loss=loss, optimizer=optimizer, metrics=['accuracy'])\n",
    "\n",
    "checkpoint = ModelCheckpoint( # set model saving checkpoints\n",
    "    modelPath, # set path to save model weights\n",
    "    monitor='val_loss', # set monitor metrics\n",
    "    verbose=1, # set training verbosity\n",
    "    save_best_only=True, # set if want to save only best weights\n",
    "    save_weights_only=True, # set if you want to save only model weights\n",
    "    mode='auto', # set if save min or max in metrics\n",
    "    save_freq=\"epoch\"  # interval between checkpoints\n",
    "    )\n",
    "\n",
    "earlystopping = EarlyStopping(\n",
    "    monitor='val_loss', # set monitor metrics\n",
    "    min_delta=0.1, # set minimum metrics delta\n",
    "    patience=3, # number of epochs to stop training\n",
    "    restore_best_weights=True, # set if use best weights or last weights\n",
    "    )\n",
    "callbacksList = [checkpoint, earlystopping] # build callbacks list"
   ]
  },
  {
   "cell_type": "code",
   "execution_count": 76,
   "metadata": {},
   "outputs": [
    {
     "name": "stdout",
     "output_type": "stream",
     "text": [
      "Epoch 1/100\n",
      "828/830 [============================>.] - ETA: 0s - loss: 8.1557 - accuracy: 0.2534\n",
      "Epoch 1: val_loss improved from inf to 1.39416, saving model to c:\\Users\\james\\OneDrive\\GradSchool\\Spring 2022\\DeepLearningProject-redone//Models\\transModel_MLP.h5\n",
      "830/830 [==============================] - 13s 13ms/step - loss: 8.1502 - accuracy: 0.2534 - val_loss: 1.3942 - val_accuracy: 0.2690\n",
      "Epoch 2/100\n",
      "826/830 [============================>.] - ETA: 0s - loss: 2.9380 - accuracy: 0.2492\n",
      "Epoch 2: val_loss improved from 1.39416 to 1.38710, saving model to c:\\Users\\james\\OneDrive\\GradSchool\\Spring 2022\\DeepLearningProject-redone//Models\\transModel_MLP.h5\n",
      "830/830 [==============================] - 10s 13ms/step - loss: 2.9355 - accuracy: 0.2493 - val_loss: 1.3871 - val_accuracy: 0.2575\n",
      "Epoch 3/100\n",
      "830/830 [==============================] - ETA: 0s - loss: 2.1116 - accuracy: 0.2530\n",
      "Epoch 3: val_loss improved from 1.38710 to 1.38690, saving model to c:\\Users\\james\\OneDrive\\GradSchool\\Spring 2022\\DeepLearningProject-redone//Models\\transModel_MLP.h5\n",
      "830/830 [==============================] - 11s 13ms/step - loss: 2.1116 - accuracy: 0.2530 - val_loss: 1.3869 - val_accuracy: 0.2613\n",
      "Epoch 4/100\n",
      "830/830 [==============================] - ETA: 0s - loss: 1.7657 - accuracy: 0.2440\n",
      "Epoch 4: val_loss improved from 1.38690 to 1.38685, saving model to c:\\Users\\james\\OneDrive\\GradSchool\\Spring 2022\\DeepLearningProject-redone//Models\\transModel_MLP.h5\n",
      "830/830 [==============================] - 8s 10ms/step - loss: 1.7657 - accuracy: 0.2440 - val_loss: 1.3868 - val_accuracy: 0.2546\n"
     ]
    }
   ],
   "source": [
    "hist = trainedModel_newLayers.fit(X_train_nn, y_train_nn, epochs=100, batch_size=10,\n",
    "                              validation_data=(X_val_nn, y_val_nn), shuffle=True, callbacks=callbacksList, verbose=1)"
   ]
  },
  {
   "cell_type": "code",
   "execution_count": 77,
   "metadata": {},
   "outputs": [
    {
     "data": {
      "text/plain": [
       "<matplotlib.legend.Legend at 0x113ef8afe50>"
      ]
     },
     "execution_count": 77,
     "metadata": {},
     "output_type": "execute_result"
    },
    {
     "data": {
      "image/png": "[encoded data removed]",
      "text/plain": [
       "<Figure size 432x288 with 2 Axes>"
      ]
     },
     "metadata": {
      "needs_background": "light"
     },
     "output_type": "display_data"
    }
   ],
   "source": [
    "fig,ax=plt.subplots()\n",
    "ax.plot(hist.history['accuracy'], color = 'b')\n",
    "ax.plot(hist.history['val_accuracy'], linestyle=':', color = 'b')\n",
    "ax.set_ylabel(\"Accuracy\", color = 'b')\n",
    "ax.set_ylim([0,1])\n",
    "ax2=ax.twinx()\n",
    "ax2.plot(hist.history['loss'],  color = 'r')\n",
    "ax2.plot(hist.history['val_loss'], linestyle=':',  color = 'r')\n",
    "ax2.set_ylabel(\"Loss (cross-entropy)\",  color = 'r')\n",
    "fig.legend(['accuracy','val_accuracy','loss','val_loss'])"
   ]
  },
  {
   "cell_type": "markdown",
   "metadata": {},
   "source": [
    "I would test it on the test set, but with such a low training and validation accuracy, I already know that the CNN trained from scratch will outperform it"
   ]
  }
 ],
 "metadata": {
  "kernelspec": {
   "display_name": "Python 3.8.3 ('base')",
   "language": "python",
   "name": "python3"
  },
  "language_info": {
   "codemirror_mode": {
    "name": "ipython",
    "version": 3
   },
   "file_extension": ".py",
   "mimetype": "text/x-python",
   "name": "python",
   "nbconvert_exporter": "python",
   "pygments_lexer": "ipython3",
   "version": "3.8.3"
  },
  "orig_nbformat": 4,
  "vscode": {
   "interpreter": {
    "hash": "594cbcb53b7eb24b01ad1ace3292a9583de43e996a12a214afbcf4f5a5715dd8"
   }
  }
 },
 "nbformat": 4,
 "nbformat_minor": 2
}
